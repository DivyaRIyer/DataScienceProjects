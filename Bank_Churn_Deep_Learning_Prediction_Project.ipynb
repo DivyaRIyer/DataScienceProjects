{
  "nbformat": 4,
  "nbformat_minor": 0,
  "metadata": {
    "colab": {
      "name": "Bank_Churn_Deep_Learning_Prediction_Project.ipynb",
      "provenance": [],
      "collapsed_sections": [],
      "include_colab_link": true
    },
    "kernelspec": {
      "name": "python3",
      "display_name": "Python 3"
    },
    "language_info": {
      "name": "python"
    }
  },
  "cells": [
    {
      "cell_type": "markdown",
      "metadata": {
        "id": "view-in-github",
        "colab_type": "text"
      },
      "source": [
        "<a href=\"https://colab.research.google.com/github/DivyaRIyer/DataScienceProjects/blob/main/Bank_Churn_Deep_Learning_Prediction_Project.ipynb\" target=\"_parent\"><img src=\"https://colab.research.google.com/assets/colab-badge.svg\" alt=\"Open In Colab\"/></a>"
      ]
    },
    {
      "cell_type": "markdown",
      "metadata": {
        "id": "9bcdzw_tMWo5"
      },
      "source": [
        "# ***Introduction***\n",
        "\n",
        "######*Date - 17/04/2021*\n",
        "######*Author - Divya Iyer*\n",
        "Churn Modelling dataset is about some customers who are withdrawing their account from the bank due to some loss and other issues. It is crutial for banks to understand nature of their customer to come up with significant strategies to retain them. With the help of existing data we will try to analyse customer behaviour which drives them to exit from the bank. \n",
        "\n",
        "Our objective is to analyse customer actions and create a model to predict will they exit with utmost precision and accuracy.\n",
        "\n",
        "Using Deep Learning Neural Network Algorithm to work with this dataset."
      ]
    },
    {
      "cell_type": "markdown",
      "metadata": {
        "id": "iogapTAM9xix"
      },
      "source": [
        "#***Importing required library and dataset***"
      ]
    },
    {
      "cell_type": "markdown",
      "metadata": {
        "id": "n0jkKRyG986N"
      },
      "source": [
        "Importing mathematical, visualising, metrics calculation, scaling, modelling libraries for analysing and modelling our dataset"
      ]
    },
    {
      "cell_type": "code",
      "metadata": {
        "id": "O3RiVMrA-Avs"
      },
      "source": [
        "import warnings\n",
        "warnings.filterwarnings('ignore')\n",
        "\n",
        "import numpy as np\n",
        "import pandas as pd\n",
        "import matplotlib.pyplot as plt\n",
        "import seaborn as sns\n",
        "\n",
        "from sklearn.preprocessing import StandardScaler,LabelEncoder\n",
        "from sklearn.metrics import classification_report,accuracy_score\n",
        "from sklearn.model_selection import train_test_split\n",
        "\n",
        "from scipy.stats import skew\n",
        "import tensorflow as tf"
      ],
      "execution_count": 1,
      "outputs": []
    },
    {
      "cell_type": "markdown",
      "metadata": {
        "id": "PnEy4KA2-K8s"
      },
      "source": [
        "Reading dataset using pandas library"
      ]
    },
    {
      "cell_type": "code",
      "metadata": {
        "id": "ofxERExo-NK5"
      },
      "source": [
        "df = pd.read_csv(\"Churn_Modelling.csv\")"
      ],
      "execution_count": 2,
      "outputs": []
    },
    {
      "cell_type": "markdown",
      "metadata": {
        "id": "IvjOPHAcIzXS"
      },
      "source": [
        "#Data Visualization"
      ]
    },
    {
      "cell_type": "code",
      "metadata": {
        "colab": {
          "base_uri": "https://localhost:8080/",
          "height": 282
        },
        "id": "N_Andrj0GLch",
        "outputId": "cdfed9f6-d8e8-413d-bbae-d9278f3c21cc"
      },
      "source": [
        "sns.countplot(df.Geography.values)"
      ],
      "execution_count": 3,
      "outputs": [
        {
          "output_type": "execute_result",
          "data": {
            "text/plain": [
              "<matplotlib.axes._subplots.AxesSubplot at 0x7f598e7dd2d0>"
            ]
          },
          "metadata": {
            "tags": []
          },
          "execution_count": 3
        },
        {
          "output_type": "display_data",
          "data": {
            "image/png": "[encoded data removed]",
            "text/plain": [
              "<Figure size 432x288 with 1 Axes>"
            ]
          },
          "metadata": {
            "tags": [],
            "needs_background": "light"
          }
        }
      ]
    },
    {
      "cell_type": "markdown",
      "metadata": {
        "id": "9_8RRNeZVORO"
      },
      "source": [
        "Most of the bank customers are located in France."
      ]
    },
    {
      "cell_type": "code",
      "metadata": {
        "colab": {
          "base_uri": "https://localhost:8080/",
          "height": 894
        },
        "id": "e87UFlm8G6l0",
        "outputId": "6d255b18-e33f-4f47-eb9a-b7affb9b71d2"
      },
      "source": [
        "fig, axes = plt.subplots(4, 3, figsize=(15,15))\n",
        "sns.histplot(ax=axes[0, 0], data=df, x=\"CreditScore\", hue=\"Exited\", multiple=\"stack\")\n",
        "sns.histplot(ax=axes[0, 1], data=df, x='Age', hue=\"Exited\", multiple=\"stack\")\n",
        "sns.histplot(ax=axes[0, 2], data=df, x='Tenure', hue=\"Exited\", multiple=\"stack\")\n",
        "sns.histplot(ax=axes[1, 0], data=df, x='Balance', hue=\"Exited\", multiple=\"stack\")\n",
        "sns.histplot(ax=axes[1, 1], data=df, x='NumOfProducts', hue=\"Exited\", multiple=\"stack\")\n",
        "sns.histplot(ax=axes[1, 2], data=df, x='EstimatedSalary', hue=\"Exited\", multiple=\"stack\")\n",
        "sns.histplot(ax=axes[2, 0], data=df, x='Geography', hue=\"Exited\", multiple=\"stack\")\n",
        "sns.histplot(ax=axes[2, 1], data=df, x='Gender', hue=\"Exited\", multiple=\"stack\")\n",
        "sns.histplot(ax=axes[2, 2], data=df, x='HasCrCard', hue=\"Exited\", multiple=\"stack\")\n",
        "sns.histplot(ax=axes[3, 0], data=df, x='IsActiveMember', hue=\"Exited\", multiple=\"stack\")"
      ],
      "execution_count": 4,
      "outputs": [
        {
          "output_type": "execute_result",
          "data": {
            "text/plain": [
              "<matplotlib.axes._subplots.AxesSubplot at 0x7f5989eb41d0>"
            ]
          },
          "metadata": {
            "tags": []
          },
          "execution_count": 4
        },
        {
          "output_type": "display_data",
          "data": {
            "image/png": "[encoded data removed]",
            "text/plain": [
              "<Figure size 1080x1080 with 12 Axes>"
            ]
          },
          "metadata": {
            "tags": [],
            "needs_background": "light"
          }
        }
      ]
    },
    {
      "cell_type": "markdown",
      "metadata": {
        "id": "cx6MztHMG-Ik"
      },
      "source": [
        "As observed, customers from the following groups are more likely to exit:\n",
        "\n",
        "*   Over the age of 40.\n",
        "*   From Germany.\n",
        "*   Female.\n",
        "\n",
        "Customers from the following groups are less likely to exit:\n",
        "\n",
        "*   Having 2 products.\n",
        "*   Active members."
      ]
    },
    {
      "cell_type": "markdown",
      "metadata": {
        "id": "1fl-VFY_9Sjy"
      },
      "source": [
        "Creating a pair plot to visualize correlation between features"
      ]
    },
    {
      "cell_type": "code",
      "metadata": {
        "colab": {
          "base_uri": "https://localhost:8080/",
          "height": 868
        },
        "id": "j3tlXgP6ItoU",
        "outputId": "00568386-bee4-46e6-e681-6734d3b266d4"
      },
      "source": [
        "cols = ['CreditScore', 'Age', 'Tenure', 'Balance', 'NumOfProducts', 'EstimatedSalary', 'Exited']\n",
        "sns.pairplot(df[cols], hue='Exited', kind='hist', height=2)\n",
        "plt.show()"
      ],
      "execution_count": 5,
      "outputs": [
        {
          "output_type": "display_data",
          "data": {
            "image/png": "[encoded data removed]",
            "text/plain": [
              "<Figure size 906.375x864 with 42 Axes>"
            ]
          },
          "metadata": {
            "tags": [],
            "needs_background": "light"
          }
        }
      ]
    },
    {
      "cell_type": "markdown",
      "metadata": {
        "id": "Cqip0MyGNuCm"
      },
      "source": [
        "#***Analysis & EDA***"
      ]
    },
    {
      "cell_type": "markdown",
      "metadata": {
        "id": "JNYQp252P-bb"
      },
      "source": [
        "Check for missing values"
      ]
    },
    {
      "cell_type": "code",
      "metadata": {
        "colab": {
          "base_uri": "https://localhost:8080/",
          "height": 0
        },
        "id": "XDoKi99Bc5VW",
        "outputId": "5e0b1fba-5df8-4cdb-8a51-75ebb9baccfa"
      },
      "source": [
        "df.shape"
      ],
      "execution_count": 6,
      "outputs": [
        {
          "output_type": "execute_result",
          "data": {
            "text/plain": [
              "(10000, 14)"
            ]
          },
          "metadata": {
            "tags": []
          },
          "execution_count": 6
        }
      ]
    },
    {
      "cell_type": "code",
      "metadata": {
        "colab": {
          "base_uri": "https://localhost:8080/",
          "height": 0
        },
        "id": "_Sc9-1CvdIEN",
        "outputId": "5099ba07-f2cd-4cca-e6a2-a517c6e15652"
      },
      "source": [
        "df.info()"
      ],
      "execution_count": 7,
      "outputs": [
        {
          "output_type": "stream",
          "text": [
            "<class 'pandas.core.frame.DataFrame'>\n",
            "RangeIndex: 10000 entries, 0 to 9999\n",
            "Data columns (total 14 columns):\n",
            " #   Column           Non-Null Count  Dtype  \n",
            "---  ------           --------------  -----  \n",
            " 0   RowNumber        10000 non-null  int64  \n",
            " 1   CustomerId       10000 non-null  int64  \n",
            " 2   Surname          10000 non-null  object \n",
            " 3   CreditScore      10000 non-null  int64  \n",
            " 4   Geography        10000 non-null  object \n",
            " 5   Gender           10000 non-null  object \n",
            " 6   Age              10000 non-null  int64  \n",
            " 7   Tenure           10000 non-null  int64  \n",
            " 8   Balance          10000 non-null  float64\n",
            " 9   NumOfProducts    10000 non-null  int64  \n",
            " 10  HasCrCard        10000 non-null  int64  \n",
            " 11  IsActiveMember   10000 non-null  int64  \n",
            " 12  EstimatedSalary  10000 non-null  float64\n",
            " 13  Exited           10000 non-null  int64  \n",
            "dtypes: float64(2), int64(9), object(3)\n",
            "memory usage: 1.1+ MB\n"
          ],
          "name": "stdout"
        }
      ]
    },
    {
      "cell_type": "markdown",
      "metadata": {
        "id": "nVOse4V9QFgx"
      },
      "source": [
        "We can observe, all the rows has 10000 Non-Null entries. Hence there are no missing/NaN values in above dataset. We will check junk values in Geography and Gender column as they are of type object."
      ]
    },
    {
      "cell_type": "code",
      "metadata": {
        "colab": {
          "base_uri": "https://localhost:8080/",
          "height": 204
        },
        "id": "ZN8ALVenc-43",
        "outputId": "262a4970-617e-4850-ffeb-6a411443c524"
      },
      "source": [
        "df.head()"
      ],
      "execution_count": 8,
      "outputs": [
        {
          "output_type": "execute_result",
          "data": {
            "text/html": [
              "<div>\n",
              "<style scoped>\n",
              "    .dataframe tbody tr th:only-of-type {\n",
              "        vertical-align: middle;\n",
              "    }\n",
              "\n",
              "    .dataframe tbody tr th {\n",
              "        vertical-align: top;\n",
              "    }\n",
              "\n",
              "    .dataframe thead th {\n",
              "        text-align: right;\n",
              "    }\n",
              "</style>\n",
              "<table border=\"1\" class=\"dataframe\">\n",
              "  <thead>\n",
              "    <tr style=\"text-align: right;\">\n",
              "      <th></th>\n",
              "      <th>RowNumber</th>\n",
              "      <th>CustomerId</th>\n",
              "      <th>Surname</th>\n",
              "      <th>CreditScore</th>\n",
              "      <th>Geography</th>\n",
              "      <th>Gender</th>\n",
              "      <th>Age</th>\n",
              "      <th>Tenure</th>\n",
              "      <th>Balance</th>\n",
              "      <th>NumOfProducts</th>\n",
              "      <th>HasCrCard</th>\n",
              "      <th>IsActiveMember</th>\n",
              "      <th>EstimatedSalary</th>\n",
              "      <th>Exited</th>\n",
              "    </tr>\n",
              "  </thead>\n",
              "  <tbody>\n",
              "    <tr>\n",
              "      <th>0</th>\n",
              "      <td>1</td>\n",
              "      <td>15634602</td>\n",
              "      <td>Hargrave</td>\n",
              "      <td>619</td>\n",
              "      <td>France</td>\n",
              "      <td>Female</td>\n",
              "      <td>42</td>\n",
              "      <td>2</td>\n",
              "      <td>0.00</td>\n",
              "      <td>1</td>\n",
              "      <td>1</td>\n",
              "      <td>1</td>\n",
              "      <td>101348.88</td>\n",
              "      <td>1</td>\n",
              "    </tr>\n",
              "    <tr>\n",
              "      <th>1</th>\n",
              "      <td>2</td>\n",
              "      <td>15647311</td>\n",
              "      <td>Hill</td>\n",
              "      <td>608</td>\n",
              "      <td>Spain</td>\n",
              "      <td>Female</td>\n",
              "      <td>41</td>\n",
              "      <td>1</td>\n",
              "      <td>83807.86</td>\n",
              "      <td>1</td>\n",
              "      <td>0</td>\n",
              "      <td>1</td>\n",
              "      <td>112542.58</td>\n",
              "      <td>0</td>\n",
              "    </tr>\n",
              "    <tr>\n",
              "      <th>2</th>\n",
              "      <td>3</td>\n",
              "      <td>15619304</td>\n",
              "      <td>Onio</td>\n",
              "      <td>502</td>\n",
              "      <td>France</td>\n",
              "      <td>Female</td>\n",
              "      <td>42</td>\n",
              "      <td>8</td>\n",
              "      <td>159660.80</td>\n",
              "      <td>3</td>\n",
              "      <td>1</td>\n",
              "      <td>0</td>\n",
              "      <td>113931.57</td>\n",
              "      <td>1</td>\n",
              "    </tr>\n",
              "    <tr>\n",
              "      <th>3</th>\n",
              "      <td>4</td>\n",
              "      <td>15701354</td>\n",
              "      <td>Boni</td>\n",
              "      <td>699</td>\n",
              "      <td>France</td>\n",
              "      <td>Female</td>\n",
              "      <td>39</td>\n",
              "      <td>1</td>\n",
              "      <td>0.00</td>\n",
              "      <td>2</td>\n",
              "      <td>0</td>\n",
              "      <td>0</td>\n",
              "      <td>93826.63</td>\n",
              "      <td>0</td>\n",
              "    </tr>\n",
              "    <tr>\n",
              "      <th>4</th>\n",
              "      <td>5</td>\n",
              "      <td>15737888</td>\n",
              "      <td>Mitchell</td>\n",
              "      <td>850</td>\n",
              "      <td>Spain</td>\n",
              "      <td>Female</td>\n",
              "      <td>43</td>\n",
              "      <td>2</td>\n",
              "      <td>125510.82</td>\n",
              "      <td>1</td>\n",
              "      <td>1</td>\n",
              "      <td>1</td>\n",
              "      <td>79084.10</td>\n",
              "      <td>0</td>\n",
              "    </tr>\n",
              "  </tbody>\n",
              "</table>\n",
              "</div>"
            ],
            "text/plain": [
              "   RowNumber  CustomerId   Surname  ...  IsActiveMember EstimatedSalary Exited\n",
              "0          1    15634602  Hargrave  ...               1       101348.88      1\n",
              "1          2    15647311      Hill  ...               1       112542.58      0\n",
              "2          3    15619304      Onio  ...               0       113931.57      1\n",
              "3          4    15701354      Boni  ...               0        93826.63      0\n",
              "4          5    15737888  Mitchell  ...               1        79084.10      0\n",
              "\n",
              "[5 rows x 14 columns]"
            ]
          },
          "metadata": {
            "tags": []
          },
          "execution_count": 8
        }
      ]
    },
    {
      "cell_type": "markdown",
      "metadata": {
        "id": "sHjNaSBqQ32a"
      },
      "source": [
        "Checking unique value for both Geography and Gender to understand if they have any junk values"
      ]
    },
    {
      "cell_type": "code",
      "metadata": {
        "colab": {
          "base_uri": "https://localhost:8080/",
          "height": 0
        },
        "id": "jGh6SKbXeBce",
        "outputId": "18fed65f-a809-481a-8eb9-3456aa901fb6"
      },
      "source": [
        "df['Geography'].value_counts()"
      ],
      "execution_count": 9,
      "outputs": [
        {
          "output_type": "execute_result",
          "data": {
            "text/plain": [
              "France     5014\n",
              "Germany    2509\n",
              "Spain      2477\n",
              "Name: Geography, dtype: int64"
            ]
          },
          "metadata": {
            "tags": []
          },
          "execution_count": 9
        }
      ]
    },
    {
      "cell_type": "code",
      "metadata": {
        "colab": {
          "base_uri": "https://localhost:8080/",
          "height": 0
        },
        "id": "foCfWqngeZQg",
        "outputId": "de40c677-d2df-4b6a-c0a5-186ef7bf49cb"
      },
      "source": [
        "df['Gender'].value_counts()"
      ],
      "execution_count": 10,
      "outputs": [
        {
          "output_type": "execute_result",
          "data": {
            "text/plain": [
              "Male      5457\n",
              "Female    4543\n",
              "Name: Gender, dtype: int64"
            ]
          },
          "metadata": {
            "tags": []
          },
          "execution_count": 10
        }
      ]
    },
    {
      "cell_type": "markdown",
      "metadata": {
        "id": "11xhFbSPRC6w"
      },
      "source": [
        "Both of the columns do not have junk values."
      ]
    },
    {
      "cell_type": "markdown",
      "metadata": {
        "id": "Pr_RYZyqRGnW"
      },
      "source": [
        "Dropping column RowNumber, CustomerId, Surname as they have huge unique values and are less relevant to our analysis."
      ]
    },
    {
      "cell_type": "code",
      "metadata": {
        "id": "JALpgyuHepe1"
      },
      "source": [
        "df.drop(['CustomerId','RowNumber','Surname'],axis=1,inplace=True)"
      ],
      "execution_count": 11,
      "outputs": []
    },
    {
      "cell_type": "code",
      "metadata": {
        "colab": {
          "base_uri": "https://localhost:8080/",
          "height": 204
        },
        "id": "3s9vtHBeNr_F",
        "outputId": "68b58eb3-da2b-4f55-a728-b79c004f3528"
      },
      "source": [
        "df.head()"
      ],
      "execution_count": 12,
      "outputs": [
        {
          "output_type": "execute_result",
          "data": {
            "text/html": [
              "<div>\n",
              "<style scoped>\n",
              "    .dataframe tbody tr th:only-of-type {\n",
              "        vertical-align: middle;\n",
              "    }\n",
              "\n",
              "    .dataframe tbody tr th {\n",
              "        vertical-align: top;\n",
              "    }\n",
              "\n",
              "    .dataframe thead th {\n",
              "        text-align: right;\n",
              "    }\n",
              "</style>\n",
              "<table border=\"1\" class=\"dataframe\">\n",
              "  <thead>\n",
              "    <tr style=\"text-align: right;\">\n",
              "      <th></th>\n",
              "      <th>CreditScore</th>\n",
              "      <th>Geography</th>\n",
              "      <th>Gender</th>\n",
              "      <th>Age</th>\n",
              "      <th>Tenure</th>\n",
              "      <th>Balance</th>\n",
              "      <th>NumOfProducts</th>\n",
              "      <th>HasCrCard</th>\n",
              "      <th>IsActiveMember</th>\n",
              "      <th>EstimatedSalary</th>\n",
              "      <th>Exited</th>\n",
              "    </tr>\n",
              "  </thead>\n",
              "  <tbody>\n",
              "    <tr>\n",
              "      <th>0</th>\n",
              "      <td>619</td>\n",
              "      <td>France</td>\n",
              "      <td>Female</td>\n",
              "      <td>42</td>\n",
              "      <td>2</td>\n",
              "      <td>0.00</td>\n",
              "      <td>1</td>\n",
              "      <td>1</td>\n",
              "      <td>1</td>\n",
              "      <td>101348.88</td>\n",
              "      <td>1</td>\n",
              "    </tr>\n",
              "    <tr>\n",
              "      <th>1</th>\n",
              "      <td>608</td>\n",
              "      <td>Spain</td>\n",
              "      <td>Female</td>\n",
              "      <td>41</td>\n",
              "      <td>1</td>\n",
              "      <td>83807.86</td>\n",
              "      <td>1</td>\n",
              "      <td>0</td>\n",
              "      <td>1</td>\n",
              "      <td>112542.58</td>\n",
              "      <td>0</td>\n",
              "    </tr>\n",
              "    <tr>\n",
              "      <th>2</th>\n",
              "      <td>502</td>\n",
              "      <td>France</td>\n",
              "      <td>Female</td>\n",
              "      <td>42</td>\n",
              "      <td>8</td>\n",
              "      <td>159660.80</td>\n",
              "      <td>3</td>\n",
              "      <td>1</td>\n",
              "      <td>0</td>\n",
              "      <td>113931.57</td>\n",
              "      <td>1</td>\n",
              "    </tr>\n",
              "    <tr>\n",
              "      <th>3</th>\n",
              "      <td>699</td>\n",
              "      <td>France</td>\n",
              "      <td>Female</td>\n",
              "      <td>39</td>\n",
              "      <td>1</td>\n",
              "      <td>0.00</td>\n",
              "      <td>2</td>\n",
              "      <td>0</td>\n",
              "      <td>0</td>\n",
              "      <td>93826.63</td>\n",
              "      <td>0</td>\n",
              "    </tr>\n",
              "    <tr>\n",
              "      <th>4</th>\n",
              "      <td>850</td>\n",
              "      <td>Spain</td>\n",
              "      <td>Female</td>\n",
              "      <td>43</td>\n",
              "      <td>2</td>\n",
              "      <td>125510.82</td>\n",
              "      <td>1</td>\n",
              "      <td>1</td>\n",
              "      <td>1</td>\n",
              "      <td>79084.10</td>\n",
              "      <td>0</td>\n",
              "    </tr>\n",
              "  </tbody>\n",
              "</table>\n",
              "</div>"
            ],
            "text/plain": [
              "   CreditScore Geography  Gender  ...  IsActiveMember  EstimatedSalary  Exited\n",
              "0          619    France  Female  ...               1        101348.88       1\n",
              "1          608     Spain  Female  ...               1        112542.58       0\n",
              "2          502    France  Female  ...               0        113931.57       1\n",
              "3          699    France  Female  ...               0         93826.63       0\n",
              "4          850     Spain  Female  ...               1         79084.10       0\n",
              "\n",
              "[5 rows x 11 columns]"
            ]
          },
          "metadata": {
            "tags": []
          },
          "execution_count": 12
        }
      ]
    },
    {
      "cell_type": "markdown",
      "metadata": {
        "id": "fLRLOwouRlX4"
      },
      "source": [
        "Column Gender and Geography has categorical value. Splitting the dataset according to their datatype for convertion."
      ]
    },
    {
      "cell_type": "code",
      "metadata": {
        "id": "4aFnIXH_NvRB"
      },
      "source": [
        "df_cat = df.select_dtypes(object)\n",
        "df_num = df.select_dtypes([\"float64\", 'int64'])"
      ],
      "execution_count": 13,
      "outputs": []
    },
    {
      "cell_type": "code",
      "metadata": {
        "colab": {
          "base_uri": "https://localhost:8080/",
          "height": 204
        },
        "id": "eJ4ZkVILOAY_",
        "outputId": "2027c198-c95f-4ab7-bf00-64d87c084106"
      },
      "source": [
        "df_cat.head()"
      ],
      "execution_count": 14,
      "outputs": [
        {
          "output_type": "execute_result",
          "data": {
            "text/html": [
              "<div>\n",
              "<style scoped>\n",
              "    .dataframe tbody tr th:only-of-type {\n",
              "        vertical-align: middle;\n",
              "    }\n",
              "\n",
              "    .dataframe tbody tr th {\n",
              "        vertical-align: top;\n",
              "    }\n",
              "\n",
              "    .dataframe thead th {\n",
              "        text-align: right;\n",
              "    }\n",
              "</style>\n",
              "<table border=\"1\" class=\"dataframe\">\n",
              "  <thead>\n",
              "    <tr style=\"text-align: right;\">\n",
              "      <th></th>\n",
              "      <th>Geography</th>\n",
              "      <th>Gender</th>\n",
              "    </tr>\n",
              "  </thead>\n",
              "  <tbody>\n",
              "    <tr>\n",
              "      <th>0</th>\n",
              "      <td>France</td>\n",
              "      <td>Female</td>\n",
              "    </tr>\n",
              "    <tr>\n",
              "      <th>1</th>\n",
              "      <td>Spain</td>\n",
              "      <td>Female</td>\n",
              "    </tr>\n",
              "    <tr>\n",
              "      <th>2</th>\n",
              "      <td>France</td>\n",
              "      <td>Female</td>\n",
              "    </tr>\n",
              "    <tr>\n",
              "      <th>3</th>\n",
              "      <td>France</td>\n",
              "      <td>Female</td>\n",
              "    </tr>\n",
              "    <tr>\n",
              "      <th>4</th>\n",
              "      <td>Spain</td>\n",
              "      <td>Female</td>\n",
              "    </tr>\n",
              "  </tbody>\n",
              "</table>\n",
              "</div>"
            ],
            "text/plain": [
              "  Geography  Gender\n",
              "0    France  Female\n",
              "1     Spain  Female\n",
              "2    France  Female\n",
              "3    France  Female\n",
              "4     Spain  Female"
            ]
          },
          "metadata": {
            "tags": []
          },
          "execution_count": 14
        }
      ]
    },
    {
      "cell_type": "markdown",
      "metadata": {
        "id": "sHq7lPCUSHRe"
      },
      "source": [
        "Label Encoding our categorical columns into numerical value for analysis"
      ]
    },
    {
      "cell_type": "code",
      "metadata": {
        "colab": {
          "base_uri": "https://localhost:8080/",
          "height": 0
        },
        "id": "ITfDsaROOOs-",
        "outputId": "7177355d-4fd6-4c6e-a298-3c6e11570f4b"
      },
      "source": [
        "for col in df_cat:\n",
        "  le =LabelEncoder()\n",
        "  df_cat[col] = le.fit_transform(df_cat[col])\n",
        "print(df_cat.head())"
      ],
      "execution_count": 15,
      "outputs": [
        {
          "output_type": "stream",
          "text": [
            "   Geography  Gender\n",
            "0          0       0\n",
            "1          2       0\n",
            "2          0       0\n",
            "3          0       0\n",
            "4          2       0\n"
          ],
          "name": "stdout"
        }
      ]
    },
    {
      "cell_type": "code",
      "metadata": {
        "colab": {
          "base_uri": "https://localhost:8080/",
          "height": 204
        },
        "id": "EQDKG4BfOWF4",
        "outputId": "7cf5a27d-688e-4fd5-f20e-bca8d70a1831"
      },
      "source": [
        "df_cat.head()"
      ],
      "execution_count": 16,
      "outputs": [
        {
          "output_type": "execute_result",
          "data": {
            "text/html": [
              "<div>\n",
              "<style scoped>\n",
              "    .dataframe tbody tr th:only-of-type {\n",
              "        vertical-align: middle;\n",
              "    }\n",
              "\n",
              "    .dataframe tbody tr th {\n",
              "        vertical-align: top;\n",
              "    }\n",
              "\n",
              "    .dataframe thead th {\n",
              "        text-align: right;\n",
              "    }\n",
              "</style>\n",
              "<table border=\"1\" class=\"dataframe\">\n",
              "  <thead>\n",
              "    <tr style=\"text-align: right;\">\n",
              "      <th></th>\n",
              "      <th>Geography</th>\n",
              "      <th>Gender</th>\n",
              "    </tr>\n",
              "  </thead>\n",
              "  <tbody>\n",
              "    <tr>\n",
              "      <th>0</th>\n",
              "      <td>0</td>\n",
              "      <td>0</td>\n",
              "    </tr>\n",
              "    <tr>\n",
              "      <th>1</th>\n",
              "      <td>2</td>\n",
              "      <td>0</td>\n",
              "    </tr>\n",
              "    <tr>\n",
              "      <th>2</th>\n",
              "      <td>0</td>\n",
              "      <td>0</td>\n",
              "    </tr>\n",
              "    <tr>\n",
              "      <th>3</th>\n",
              "      <td>0</td>\n",
              "      <td>0</td>\n",
              "    </tr>\n",
              "    <tr>\n",
              "      <th>4</th>\n",
              "      <td>2</td>\n",
              "      <td>0</td>\n",
              "    </tr>\n",
              "  </tbody>\n",
              "</table>\n",
              "</div>"
            ],
            "text/plain": [
              "   Geography  Gender\n",
              "0          0       0\n",
              "1          2       0\n",
              "2          0       0\n",
              "3          0       0\n",
              "4          2       0"
            ]
          },
          "metadata": {
            "tags": []
          },
          "execution_count": 16
        }
      ]
    },
    {
      "cell_type": "markdown",
      "metadata": {
        "id": "nOtahIbxSYke"
      },
      "source": [
        "Analysing skewness of numerical dataset. "
      ]
    },
    {
      "cell_type": "code",
      "metadata": {
        "colab": {
          "base_uri": "https://localhost:8080/",
          "height": 2703
        },
        "id": "CKz67ohdPQCd",
        "outputId": "3a84a8f1-24db-409b-a6d5-4df4948d14c1"
      },
      "source": [
        "for col in df_num:\n",
        "  try:\n",
        "    print(col, \"=\", skew(df_num[col]))\n",
        "    sns.distplot(df_num[col])\n",
        "    plt.show()\n",
        "  except:\n",
        "    pass\n",
        "  finally:\n",
        "    print(\"********************************\")\n",
        "  \n",
        "#skew value is < -0.5 or >0.5\n",
        "# High Skewness - Age, NUmof Products\n",
        "# slight skewness - Hascrcard\n"
      ],
      "execution_count": 17,
      "outputs": [
        {
          "output_type": "stream",
          "text": [
            "CreditScore = -0.07159586676212397\n"
          ],
          "name": "stdout"
        },
        {
          "output_type": "display_data",
          "data": {
            "image/png": "[encoded data removed]",
            "text/plain": [
              "<Figure size 432x288 with 1 Axes>"
            ]
          },
          "metadata": {
            "tags": [],
            "needs_background": "light"
          }
        },
        {
          "output_type": "stream",
          "text": [
            "********************************\n",
            "Age = 1.0111685586628079\n"
          ],
          "name": "stdout"
        },
        {
          "output_type": "display_data",
          "data": {
            "image/png": "[encoded data removed]",
            "text/plain": [
              "<Figure size 432x288 with 1 Axes>"
            ]
          },
          "metadata": {
            "tags": [],
            "needs_background": "light"
          }
        },
        {
          "output_type": "stream",
          "text": [
            "********************************\n",
            "Tenure = 0.010989809189781041\n"
          ],
          "name": "stdout"
        },
        {
          "output_type": "display_data",
          "data": {
            "image/png": "[encoded data removed]",
            "text/plain": [
              "<Figure size 432x288 with 1 Axes>"
            ]
          },
          "metadata": {
            "tags": [],
            "needs_background": "light"
          }
        },
        {
          "output_type": "stream",
          "text": [
            "********************************\n",
            "Balance = -0.14108754375291138\n"
          ],
          "name": "stdout"
        },
        {
          "output_type": "display_data",
          "data": {
            "image/png": "[encoded data removed]",
            "text/plain": [
              "<Figure size 432x288 with 1 Axes>"
            ]
          },
          "metadata": {
            "tags": [],
            "needs_background": "light"
          }
        },
        {
          "output_type": "stream",
          "text": [
            "********************************\n",
            "NumOfProducts = 0.745456048438949\n"
          ],
          "name": "stdout"
        },
        {
          "output_type": "display_data",
          "data": {
            "image/png": "[encoded data removed]",
            "text/plain": [
              "<Figure size 432x288 with 1 Axes>"
            ]
          },
          "metadata": {
            "tags": [],
            "needs_background": "light"
          }
        },
        {
          "output_type": "stream",
          "text": [
            "********************************\n",
            "HasCrCard = -0.9016763178640548\n"
          ],
          "name": "stdout"
        },
        {
          "output_type": "display_data",
          "data": {
            "image/png": "[encoded data removed]",
            "text/plain": [
              "<Figure size 432x288 with 1 Axes>"
            ]
          },
          "metadata": {
            "tags": [],
            "needs_background": "light"
          }
        },
        {
          "output_type": "stream",
          "text": [
            "********************************\n",
            "IsActiveMember = -0.06042756246298516\n"
          ],
          "name": "stdout"
        },
        {
          "output_type": "display_data",
          "data": {
            "image/png": "[encoded data removed]",
            "text/plain": [
              "<Figure size 432x288 with 1 Axes>"
            ]
          },
          "metadata": {
            "tags": [],
            "needs_background": "light"
          }
        },
        {
          "output_type": "stream",
          "text": [
            "********************************\n",
            "EstimatedSalary = 0.0020850448448748848\n"
          ],
          "name": "stdout"
        },
        {
          "output_type": "display_data",
          "data": {
            "image/png": "[encoded data removed]",
            "text/plain": [
              "<Figure size 432x288 with 1 Axes>"
            ]
          },
          "metadata": {
            "tags": [],
            "needs_background": "light"
          }
        },
        {
          "output_type": "stream",
          "text": [
            "********************************\n",
            "Exited = 1.4713899141398699\n"
          ],
          "name": "stdout"
        },
        {
          "output_type": "display_data",
          "data": {
            "image/png": "[encoded data removed]",
            "text/plain": [
              "<Figure size 432x288 with 1 Axes>"
            ]
          },
          "metadata": {
            "tags": [],
            "needs_background": "light"
          }
        },
        {
          "output_type": "stream",
          "text": [
            "********************************\n"
          ],
          "name": "stdout"
        }
      ]
    },
    {
      "cell_type": "code",
      "metadata": {
        "colab": {
          "base_uri": "https://localhost:8080/",
          "height": 559
        },
        "id": "9kyfiqF2PU2Z",
        "outputId": "832ae0ba-9605-4c25-fb2f-f3e5d59eef79"
      },
      "source": [
        "plt.figure(figsize=(7,8))\n",
        "sns.heatmap(df_num.corr(), annot=True)\n",
        "plt.show()"
      ],
      "execution_count": 18,
      "outputs": [
        {
          "output_type": "display_data",
          "data": {
            "image/png": "[encoded data removed]",
            "text/plain": [
              "<Figure size 504x576 with 2 Axes>"
            ]
          },
          "metadata": {
            "tags": [],
            "needs_background": "light"
          }
        }
      ]
    },
    {
      "cell_type": "markdown",
      "metadata": {
        "id": "1OV9PEC6SvCX"
      },
      "source": [
        "Skewness out of range are as follows:\n",
        "\n",
        "\n",
        "*   Age = 1.01  - ***High***\n",
        "*   NumofProducts = 0.74 -  ***High***\n",
        "\n",
        "Both columns do not share high correlation with target feature, handling their skewness below."
      ]
    },
    {
      "cell_type": "markdown",
      "metadata": {
        "id": "yzGOvER4UEo5"
      },
      "source": [
        "Checking for minimum and maximum value as no skewness has to be performed if the column has negative values(handling skewness for negative values leads to NaN)"
      ]
    },
    {
      "cell_type": "code",
      "metadata": {
        "colab": {
          "base_uri": "https://localhost:8080/",
          "height": 0
        },
        "id": "X-hcUc4siBJd",
        "outputId": "91d50acc-5b47-494e-c457-e39d9dbf6400"
      },
      "source": [
        "print(\"Min: \",min(df['Age']))\n",
        "print(\"Max: \",max(df['Age']))"
      ],
      "execution_count": 19,
      "outputs": [
        {
          "output_type": "stream",
          "text": [
            "Min:  18\n",
            "Max:  92\n"
          ],
          "name": "stdout"
        }
      ]
    },
    {
      "cell_type": "code",
      "metadata": {
        "colab": {
          "base_uri": "https://localhost:8080/",
          "height": 0
        },
        "id": "p2b8sC72UnNE",
        "outputId": "49a5a78a-fde3-467f-e010-6a169daf124d"
      },
      "source": [
        "skewed_data = np.sqrt(df_num['Age'])\n",
        "skew(skewed_data)"
      ],
      "execution_count": 20,
      "outputs": [
        {
          "output_type": "execute_result",
          "data": {
            "text/plain": [
              "0.5933159623197802"
            ]
          },
          "metadata": {
            "tags": []
          },
          "execution_count": 20
        }
      ]
    },
    {
      "cell_type": "code",
      "metadata": {
        "id": "ePigVfM-jExU"
      },
      "source": [
        "df_num['Age'] = np.sqrt(df_num['Age'])"
      ],
      "execution_count": 21,
      "outputs": []
    },
    {
      "cell_type": "code",
      "metadata": {
        "colab": {
          "base_uri": "https://localhost:8080/",
          "height": 0
        },
        "id": "_nerBG56lClo",
        "outputId": "238e04ae-1ea3-4d85-d751-8897aa047e69"
      },
      "source": [
        "print(\"Min: \",min(df['NumOfProducts']))\n",
        "print(\"Max: \",max(df['NumOfProducts']))"
      ],
      "execution_count": 22,
      "outputs": [
        {
          "output_type": "stream",
          "text": [
            "Min:  1\n",
            "Max:  4\n"
          ],
          "name": "stdout"
        }
      ]
    },
    {
      "cell_type": "code",
      "metadata": {
        "colab": {
          "base_uri": "https://localhost:8080/",
          "height": 0
        },
        "id": "Uc9mkQLnlQ81",
        "outputId": "10a3057c-ab72-45fc-b646-4bd39b1eed23"
      },
      "source": [
        "skewed_data = np.sqrt(df_num['NumOfProducts'])\n",
        "skew(skewed_data)"
      ],
      "execution_count": 23,
      "outputs": [
        {
          "output_type": "execute_result",
          "data": {
            "text/plain": [
              "0.4204651463627845"
            ]
          },
          "metadata": {
            "tags": []
          },
          "execution_count": 23
        }
      ]
    },
    {
      "cell_type": "code",
      "metadata": {
        "id": "Ta0m8HMNlcoY"
      },
      "source": [
        "df_num['NumOfProducts'] = np.sqrt(df_num['NumOfProducts'])"
      ],
      "execution_count": 24,
      "outputs": []
    },
    {
      "cell_type": "code",
      "metadata": {
        "colab": {
          "base_uri": "https://localhost:8080/",
          "height": 204
        },
        "id": "zDoqRLUZVLTM",
        "outputId": "3f043801-5e99-4628-e632-c3ec09aa6824"
      },
      "source": [
        "df_num.head()"
      ],
      "execution_count": 25,
      "outputs": [
        {
          "output_type": "execute_result",
          "data": {
            "text/html": [
              "<div>\n",
              "<style scoped>\n",
              "    .dataframe tbody tr th:only-of-type {\n",
              "        vertical-align: middle;\n",
              "    }\n",
              "\n",
              "    .dataframe tbody tr th {\n",
              "        vertical-align: top;\n",
              "    }\n",
              "\n",
              "    .dataframe thead th {\n",
              "        text-align: right;\n",
              "    }\n",
              "</style>\n",
              "<table border=\"1\" class=\"dataframe\">\n",
              "  <thead>\n",
              "    <tr style=\"text-align: right;\">\n",
              "      <th></th>\n",
              "      <th>CreditScore</th>\n",
              "      <th>Age</th>\n",
              "      <th>Tenure</th>\n",
              "      <th>Balance</th>\n",
              "      <th>NumOfProducts</th>\n",
              "      <th>HasCrCard</th>\n",
              "      <th>IsActiveMember</th>\n",
              "      <th>EstimatedSalary</th>\n",
              "      <th>Exited</th>\n",
              "    </tr>\n",
              "  </thead>\n",
              "  <tbody>\n",
              "    <tr>\n",
              "      <th>0</th>\n",
              "      <td>619</td>\n",
              "      <td>6.480741</td>\n",
              "      <td>2</td>\n",
              "      <td>0.00</td>\n",
              "      <td>1.000000</td>\n",
              "      <td>1</td>\n",
              "      <td>1</td>\n",
              "      <td>101348.88</td>\n",
              "      <td>1</td>\n",
              "    </tr>\n",
              "    <tr>\n",
              "      <th>1</th>\n",
              "      <td>608</td>\n",
              "      <td>6.403124</td>\n",
              "      <td>1</td>\n",
              "      <td>83807.86</td>\n",
              "      <td>1.000000</td>\n",
              "      <td>0</td>\n",
              "      <td>1</td>\n",
              "      <td>112542.58</td>\n",
              "      <td>0</td>\n",
              "    </tr>\n",
              "    <tr>\n",
              "      <th>2</th>\n",
              "      <td>502</td>\n",
              "      <td>6.480741</td>\n",
              "      <td>8</td>\n",
              "      <td>159660.80</td>\n",
              "      <td>1.732051</td>\n",
              "      <td>1</td>\n",
              "      <td>0</td>\n",
              "      <td>113931.57</td>\n",
              "      <td>1</td>\n",
              "    </tr>\n",
              "    <tr>\n",
              "      <th>3</th>\n",
              "      <td>699</td>\n",
              "      <td>6.244998</td>\n",
              "      <td>1</td>\n",
              "      <td>0.00</td>\n",
              "      <td>1.414214</td>\n",
              "      <td>0</td>\n",
              "      <td>0</td>\n",
              "      <td>93826.63</td>\n",
              "      <td>0</td>\n",
              "    </tr>\n",
              "    <tr>\n",
              "      <th>4</th>\n",
              "      <td>850</td>\n",
              "      <td>6.557439</td>\n",
              "      <td>2</td>\n",
              "      <td>125510.82</td>\n",
              "      <td>1.000000</td>\n",
              "      <td>1</td>\n",
              "      <td>1</td>\n",
              "      <td>79084.10</td>\n",
              "      <td>0</td>\n",
              "    </tr>\n",
              "  </tbody>\n",
              "</table>\n",
              "</div>"
            ],
            "text/plain": [
              "   CreditScore       Age  Tenure  ...  IsActiveMember  EstimatedSalary  Exited\n",
              "0          619  6.480741       2  ...               1        101348.88       1\n",
              "1          608  6.403124       1  ...               1        112542.58       0\n",
              "2          502  6.480741       8  ...               0        113931.57       1\n",
              "3          699  6.244998       1  ...               0         93826.63       0\n",
              "4          850  6.557439       2  ...               1         79084.10       0\n",
              "\n",
              "[5 rows x 9 columns]"
            ]
          },
          "metadata": {
            "tags": []
          },
          "execution_count": 25
        }
      ]
    },
    {
      "cell_type": "markdown",
      "metadata": {
        "id": "LoXzPoEqVP28"
      },
      "source": [
        "Skewness has been reduced for both columns."
      ]
    },
    {
      "cell_type": "markdown",
      "metadata": {
        "id": "MiHufQQUqy1L"
      },
      "source": [
        "Scaling Dataset"
      ]
    },
    {
      "cell_type": "markdown",
      "metadata": {
        "id": "38oJKE_w-6tP"
      },
      "source": [
        "Excluding column Exited as it is the target column and HasCrCard is a categorical column by nature"
      ]
    },
    {
      "cell_type": "code",
      "metadata": {
        "id": "zoX35OD_oGCj",
        "colab": {
          "base_uri": "https://localhost:8080/",
          "height": 204
        },
        "outputId": "dd775d13-bf1a-4573-cb68-031f7db7e601"
      },
      "source": [
        "for col in df_num.drop(['Exited','HasCrCard'],axis=1):\n",
        "  ss = StandardScaler()\n",
        "  df_num[col] = ss.fit_transform(df_num[[col]])\n",
        "df_num.head()"
      ],
      "execution_count": 26,
      "outputs": [
        {
          "output_type": "execute_result",
          "data": {
            "text/html": [
              "<div>\n",
              "<style scoped>\n",
              "    .dataframe tbody tr th:only-of-type {\n",
              "        vertical-align: middle;\n",
              "    }\n",
              "\n",
              "    .dataframe tbody tr th {\n",
              "        vertical-align: top;\n",
              "    }\n",
              "\n",
              "    .dataframe thead th {\n",
              "        text-align: right;\n",
              "    }\n",
              "</style>\n",
              "<table border=\"1\" class=\"dataframe\">\n",
              "  <thead>\n",
              "    <tr style=\"text-align: right;\">\n",
              "      <th></th>\n",
              "      <th>CreditScore</th>\n",
              "      <th>Age</th>\n",
              "      <th>Tenure</th>\n",
              "      <th>Balance</th>\n",
              "      <th>NumOfProducts</th>\n",
              "      <th>HasCrCard</th>\n",
              "      <th>IsActiveMember</th>\n",
              "      <th>EstimatedSalary</th>\n",
              "      <th>Exited</th>\n",
              "    </tr>\n",
              "  </thead>\n",
              "  <tbody>\n",
              "    <tr>\n",
              "      <th>0</th>\n",
              "      <td>-0.326221</td>\n",
              "      <td>0.363279</td>\n",
              "      <td>-1.041760</td>\n",
              "      <td>-1.225848</td>\n",
              "      <td>-0.940717</td>\n",
              "      <td>1</td>\n",
              "      <td>0.970243</td>\n",
              "      <td>0.021886</td>\n",
              "      <td>1</td>\n",
              "    </tr>\n",
              "    <tr>\n",
              "      <th>1</th>\n",
              "      <td>-0.440036</td>\n",
              "      <td>0.267739</td>\n",
              "      <td>-1.387538</td>\n",
              "      <td>0.117350</td>\n",
              "      <td>-0.940717</td>\n",
              "      <td>0</td>\n",
              "      <td>0.970243</td>\n",
              "      <td>0.216534</td>\n",
              "      <td>0</td>\n",
              "    </tr>\n",
              "    <tr>\n",
              "      <th>2</th>\n",
              "      <td>-1.536794</td>\n",
              "      <td>0.363279</td>\n",
              "      <td>1.032908</td>\n",
              "      <td>1.333053</td>\n",
              "      <td>2.253455</td>\n",
              "      <td>1</td>\n",
              "      <td>-1.030670</td>\n",
              "      <td>0.240687</td>\n",
              "      <td>1</td>\n",
              "    </tr>\n",
              "    <tr>\n",
              "      <th>3</th>\n",
              "      <td>0.501521</td>\n",
              "      <td>0.073098</td>\n",
              "      <td>-1.387538</td>\n",
              "      <td>-1.225848</td>\n",
              "      <td>0.866630</td>\n",
              "      <td>0</td>\n",
              "      <td>-1.030670</td>\n",
              "      <td>-0.108918</td>\n",
              "      <td>0</td>\n",
              "    </tr>\n",
              "    <tr>\n",
              "      <th>4</th>\n",
              "      <td>2.063884</td>\n",
              "      <td>0.457688</td>\n",
              "      <td>-1.041760</td>\n",
              "      <td>0.785728</td>\n",
              "      <td>-0.940717</td>\n",
              "      <td>1</td>\n",
              "      <td>0.970243</td>\n",
              "      <td>-0.365276</td>\n",
              "      <td>0</td>\n",
              "    </tr>\n",
              "  </tbody>\n",
              "</table>\n",
              "</div>"
            ],
            "text/plain": [
              "   CreditScore       Age    Tenure  ...  IsActiveMember  EstimatedSalary  Exited\n",
              "0    -0.326221  0.363279 -1.041760  ...        0.970243         0.021886       1\n",
              "1    -0.440036  0.267739 -1.387538  ...        0.970243         0.216534       0\n",
              "2    -1.536794  0.363279  1.032908  ...       -1.030670         0.240687       1\n",
              "3     0.501521  0.073098 -1.387538  ...       -1.030670        -0.108918       0\n",
              "4     2.063884  0.457688 -1.041760  ...        0.970243        -0.365276       0\n",
              "\n",
              "[5 rows x 9 columns]"
            ]
          },
          "metadata": {
            "tags": []
          },
          "execution_count": 26
        }
      ]
    },
    {
      "cell_type": "markdown",
      "metadata": {
        "id": "PU2j4CwFWW7o"
      },
      "source": [
        "Concatenating EDA Processed data set for further modelling"
      ]
    },
    {
      "cell_type": "code",
      "metadata": {
        "id": "93nISoLVq-Kg"
      },
      "source": [
        "new_df = pd.concat([df_num, df_cat], axis=1)"
      ],
      "execution_count": 27,
      "outputs": []
    },
    {
      "cell_type": "code",
      "metadata": {
        "colab": {
          "base_uri": "https://localhost:8080/",
          "height": 204
        },
        "id": "m0oztJaTrGXH",
        "outputId": "9a64104d-b7cc-4081-f1cc-10fbf118886a"
      },
      "source": [
        "new_df.head()"
      ],
      "execution_count": 28,
      "outputs": [
        {
          "output_type": "execute_result",
          "data": {
            "text/html": [
              "<div>\n",
              "<style scoped>\n",
              "    .dataframe tbody tr th:only-of-type {\n",
              "        vertical-align: middle;\n",
              "    }\n",
              "\n",
              "    .dataframe tbody tr th {\n",
              "        vertical-align: top;\n",
              "    }\n",
              "\n",
              "    .dataframe thead th {\n",
              "        text-align: right;\n",
              "    }\n",
              "</style>\n",
              "<table border=\"1\" class=\"dataframe\">\n",
              "  <thead>\n",
              "    <tr style=\"text-align: right;\">\n",
              "      <th></th>\n",
              "      <th>CreditScore</th>\n",
              "      <th>Age</th>\n",
              "      <th>Tenure</th>\n",
              "      <th>Balance</th>\n",
              "      <th>NumOfProducts</th>\n",
              "      <th>HasCrCard</th>\n",
              "      <th>IsActiveMember</th>\n",
              "      <th>EstimatedSalary</th>\n",
              "      <th>Exited</th>\n",
              "      <th>Geography</th>\n",
              "      <th>Gender</th>\n",
              "    </tr>\n",
              "  </thead>\n",
              "  <tbody>\n",
              "    <tr>\n",
              "      <th>0</th>\n",
              "      <td>-0.326221</td>\n",
              "      <td>0.363279</td>\n",
              "      <td>-1.041760</td>\n",
              "      <td>-1.225848</td>\n",
              "      <td>-0.940717</td>\n",
              "      <td>1</td>\n",
              "      <td>0.970243</td>\n",
              "      <td>0.021886</td>\n",
              "      <td>1</td>\n",
              "      <td>0</td>\n",
              "      <td>0</td>\n",
              "    </tr>\n",
              "    <tr>\n",
              "      <th>1</th>\n",
              "      <td>-0.440036</td>\n",
              "      <td>0.267739</td>\n",
              "      <td>-1.387538</td>\n",
              "      <td>0.117350</td>\n",
              "      <td>-0.940717</td>\n",
              "      <td>0</td>\n",
              "      <td>0.970243</td>\n",
              "      <td>0.216534</td>\n",
              "      <td>0</td>\n",
              "      <td>2</td>\n",
              "      <td>0</td>\n",
              "    </tr>\n",
              "    <tr>\n",
              "      <th>2</th>\n",
              "      <td>-1.536794</td>\n",
              "      <td>0.363279</td>\n",
              "      <td>1.032908</td>\n",
              "      <td>1.333053</td>\n",
              "      <td>2.253455</td>\n",
              "      <td>1</td>\n",
              "      <td>-1.030670</td>\n",
              "      <td>0.240687</td>\n",
              "      <td>1</td>\n",
              "      <td>0</td>\n",
              "      <td>0</td>\n",
              "    </tr>\n",
              "    <tr>\n",
              "      <th>3</th>\n",
              "      <td>0.501521</td>\n",
              "      <td>0.073098</td>\n",
              "      <td>-1.387538</td>\n",
              "      <td>-1.225848</td>\n",
              "      <td>0.866630</td>\n",
              "      <td>0</td>\n",
              "      <td>-1.030670</td>\n",
              "      <td>-0.108918</td>\n",
              "      <td>0</td>\n",
              "      <td>0</td>\n",
              "      <td>0</td>\n",
              "    </tr>\n",
              "    <tr>\n",
              "      <th>4</th>\n",
              "      <td>2.063884</td>\n",
              "      <td>0.457688</td>\n",
              "      <td>-1.041760</td>\n",
              "      <td>0.785728</td>\n",
              "      <td>-0.940717</td>\n",
              "      <td>1</td>\n",
              "      <td>0.970243</td>\n",
              "      <td>-0.365276</td>\n",
              "      <td>0</td>\n",
              "      <td>2</td>\n",
              "      <td>0</td>\n",
              "    </tr>\n",
              "  </tbody>\n",
              "</table>\n",
              "</div>"
            ],
            "text/plain": [
              "   CreditScore       Age    Tenure  ...  Exited  Geography  Gender\n",
              "0    -0.326221  0.363279 -1.041760  ...       1          0       0\n",
              "1    -0.440036  0.267739 -1.387538  ...       0          2       0\n",
              "2    -1.536794  0.363279  1.032908  ...       1          0       0\n",
              "3     0.501521  0.073098 -1.387538  ...       0          0       0\n",
              "4     2.063884  0.457688 -1.041760  ...       0          2       0\n",
              "\n",
              "[5 rows x 11 columns]"
            ]
          },
          "metadata": {
            "tags": []
          },
          "execution_count": 28
        }
      ]
    },
    {
      "cell_type": "markdown",
      "metadata": {
        "id": "dZKdb2-IrMWg"
      },
      "source": [
        "#***Modeling the dataset***"
      ]
    },
    {
      "cell_type": "markdown",
      "metadata": {
        "id": "ovfGK-1BWsHy"
      },
      "source": [
        "As modelling the dataset and calculating accuracy of the same will be called multiple times through out notebook. Hence, creating a function to call as and when requried to reduce code duplication."
      ]
    },
    {
      "cell_type": "code",
      "metadata": {
        "id": "5dJH6HHxtnSo"
      },
      "source": [
        "def Neural_Network(X,y,X_train,X_test,y_train,y_test):\n",
        "  model = tf.keras.Sequential([\n",
        "    tf.keras.layers.Dense(6, activation=\"relu\", input_shape=(X.shape[1],)),\n",
        "    tf.keras.layers.Dense(6, activation=\"relu\"),\n",
        "    tf.keras.layers.Dense(1, activation=\"sigmoid\")\n",
        "    ])\n",
        "  \n",
        "  model.compile(optimizer=\"adam\", loss=\"binary_crossentropy\",metrics = ['accuracy'])\n",
        "  trained_model = model.fit(X_train, y_train, epochs=50,batch_size=10)\n",
        "\n",
        "  print(\"******* PLOT **********\")\n",
        "  plt.plot(trained_model.history[\"loss\"])\n",
        "\n",
        "  y_pred = model.predict(X_test)\n",
        "  y_pred = np.where(y_pred >= 0.5,1,0)\n",
        "\n",
        "  print(\"******* CLASSIFICATION REPORT **********\")\n",
        "  print(classification_report(y_test,y_pred))\n",
        "\n",
        "  print(\"Accuracy Score: \", accuracy_score(y_test, y_pred))\n",
        "\n",
        "  return y_pred"
      ],
      "execution_count": 29,
      "outputs": []
    },
    {
      "cell_type": "code",
      "metadata": {
        "colab": {
          "base_uri": "https://localhost:8080/",
          "height": 0
        },
        "id": "xNAsbl9BXrml",
        "outputId": "b2c62975-64ef-4807-c7c5-8145352fca7b"
      },
      "source": [
        "new_df['Exited'].value_counts()"
      ],
      "execution_count": 30,
      "outputs": [
        {
          "output_type": "execute_result",
          "data": {
            "text/plain": [
              "0    7963\n",
              "1    2037\n",
              "Name: Exited, dtype: int64"
            ]
          },
          "metadata": {
            "tags": []
          },
          "execution_count": 30
        }
      ]
    },
    {
      "cell_type": "markdown",
      "metadata": {
        "id": "erq-IleKY1oQ"
      },
      "source": [
        "As dataset are highly imbalanced modelling dataset with all possiblities to check accuracy of prediction."
      ]
    },
    {
      "cell_type": "markdown",
      "metadata": {
        "id": "RrqATD5dMUy1"
      },
      "source": [
        "Modelling the dataset without balancing. "
      ]
    },
    {
      "cell_type": "code",
      "metadata": {
        "id": "epG6a2XvMWuO"
      },
      "source": [
        "X = new_df.drop('Exited',axis='columns')\n",
        "y = new_df['Exited']\n",
        "\n",
        "X_train,X_test,y_train,y_test = train_test_split(X,y,test_size=0.3,random_state=15,stratify=y)"
      ],
      "execution_count": 31,
      "outputs": []
    },
    {
      "cell_type": "code",
      "metadata": {
        "colab": {
          "base_uri": "https://localhost:8080/",
          "height": 2288
        },
        "id": "hA4nKwMUMgY6",
        "outputId": "a050e9e7-cfa9-4059-df40-ec994d2e3c2e"
      },
      "source": [
        "Neural_Network(X,y,X_train,X_test,y_train,y_test)"
      ],
      "execution_count": 32,
      "outputs": [
        {
          "output_type": "stream",
          "text": [
            "Epoch 1/50\n",
            "700/700 [==============================] - 1s 1ms/step - loss: 0.6564 - accuracy: 0.5858\n",
            "Epoch 2/50\n",
            "700/700 [==============================] - 1s 993us/step - loss: 0.4402 - accuracy: 0.8016\n",
            "Epoch 3/50\n",
            "700/700 [==============================] - 1s 1ms/step - loss: 0.4397 - accuracy: 0.8042\n",
            "Epoch 4/50\n",
            "700/700 [==============================] - 1s 1ms/step - loss: 0.4355 - accuracy: 0.8099\n",
            "Epoch 5/50\n",
            "700/700 [==============================] - 1s 988us/step - loss: 0.4116 - accuracy: 0.8275\n",
            "Epoch 6/50\n",
            "700/700 [==============================] - 1s 1ms/step - loss: 0.3883 - accuracy: 0.8350\n",
            "Epoch 7/50\n",
            "700/700 [==============================] - 1s 1ms/step - loss: 0.3956 - accuracy: 0.8304\n",
            "Epoch 8/50\n",
            "700/700 [==============================] - 1s 1ms/step - loss: 0.3927 - accuracy: 0.8356\n",
            "Epoch 9/50\n",
            "700/700 [==============================] - 1s 1ms/step - loss: 0.3752 - accuracy: 0.8456\n",
            "Epoch 10/50\n",
            "700/700 [==============================] - 1s 1ms/step - loss: 0.3737 - accuracy: 0.8472\n",
            "Epoch 11/50\n",
            "700/700 [==============================] - 1s 1ms/step - loss: 0.3776 - accuracy: 0.8437\n",
            "Epoch 12/50\n",
            "700/700 [==============================] - 1s 1000us/step - loss: 0.3753 - accuracy: 0.8435\n",
            "Epoch 13/50\n",
            "700/700 [==============================] - 1s 1ms/step - loss: 0.3531 - accuracy: 0.8552\n",
            "Epoch 14/50\n",
            "700/700 [==============================] - 1s 999us/step - loss: 0.3563 - accuracy: 0.8519\n",
            "Epoch 15/50\n",
            "700/700 [==============================] - 1s 1ms/step - loss: 0.3543 - accuracy: 0.8523\n",
            "Epoch 16/50\n",
            "700/700 [==============================] - 1s 1ms/step - loss: 0.3503 - accuracy: 0.8565\n",
            "Epoch 17/50\n",
            "700/700 [==============================] - 1s 995us/step - loss: 0.3643 - accuracy: 0.8500\n",
            "Epoch 18/50\n",
            "700/700 [==============================] - 1s 1ms/step - loss: 0.3614 - accuracy: 0.8502\n",
            "Epoch 19/50\n",
            "700/700 [==============================] - 1s 983us/step - loss: 0.3521 - accuracy: 0.8518\n",
            "Epoch 20/50\n",
            "700/700 [==============================] - 1s 1ms/step - loss: 0.3545 - accuracy: 0.8506\n",
            "Epoch 21/50\n",
            "700/700 [==============================] - 1s 1ms/step - loss: 0.3588 - accuracy: 0.8458\n",
            "Epoch 22/50\n",
            "700/700 [==============================] - 1s 1ms/step - loss: 0.3524 - accuracy: 0.8507\n",
            "Epoch 23/50\n",
            "700/700 [==============================] - 1s 1ms/step - loss: 0.3639 - accuracy: 0.8471\n",
            "Epoch 24/50\n",
            "700/700 [==============================] - 1s 1ms/step - loss: 0.3410 - accuracy: 0.8597\n",
            "Epoch 25/50\n",
            "700/700 [==============================] - 1s 1ms/step - loss: 0.3451 - accuracy: 0.8584\n",
            "Epoch 26/50\n",
            "700/700 [==============================] - 1s 997us/step - loss: 0.3453 - accuracy: 0.8562\n",
            "Epoch 27/50\n",
            "700/700 [==============================] - 1s 1ms/step - loss: 0.3471 - accuracy: 0.8530\n",
            "Epoch 28/50\n",
            "700/700 [==============================] - 1s 1ms/step - loss: 0.3414 - accuracy: 0.8549\n",
            "Epoch 29/50\n",
            "700/700 [==============================] - 1s 1ms/step - loss: 0.3441 - accuracy: 0.8579\n",
            "Epoch 30/50\n",
            "700/700 [==============================] - 1s 1ms/step - loss: 0.3553 - accuracy: 0.8519\n",
            "Epoch 31/50\n",
            "700/700 [==============================] - 1s 1ms/step - loss: 0.3412 - accuracy: 0.8541\n",
            "Epoch 32/50\n",
            "700/700 [==============================] - 1s 1ms/step - loss: 0.3485 - accuracy: 0.8544\n",
            "Epoch 33/50\n",
            "700/700 [==============================] - 1s 1ms/step - loss: 0.3376 - accuracy: 0.8616\n",
            "Epoch 34/50\n",
            "700/700 [==============================] - 1s 1ms/step - loss: 0.3376 - accuracy: 0.8566\n",
            "Epoch 35/50\n",
            "700/700 [==============================] - 1s 989us/step - loss: 0.3404 - accuracy: 0.8555\n",
            "Epoch 36/50\n",
            "700/700 [==============================] - 1s 984us/step - loss: 0.3377 - accuracy: 0.8579\n",
            "Epoch 37/50\n",
            "700/700 [==============================] - 1s 1ms/step - loss: 0.3330 - accuracy: 0.8660\n",
            "Epoch 38/50\n",
            "700/700 [==============================] - 1s 1ms/step - loss: 0.3367 - accuracy: 0.8515\n",
            "Epoch 39/50\n",
            "700/700 [==============================] - 1s 987us/step - loss: 0.3352 - accuracy: 0.8634\n",
            "Epoch 40/50\n",
            "700/700 [==============================] - 1s 1ms/step - loss: 0.3372 - accuracy: 0.8607\n",
            "Epoch 41/50\n",
            "700/700 [==============================] - 1s 1ms/step - loss: 0.3316 - accuracy: 0.8637\n",
            "Epoch 42/50\n",
            "700/700 [==============================] - 1s 997us/step - loss: 0.3446 - accuracy: 0.8595\n",
            "Epoch 43/50\n",
            "700/700 [==============================] - 1s 986us/step - loss: 0.3378 - accuracy: 0.8608\n",
            "Epoch 44/50\n",
            "700/700 [==============================] - 1s 993us/step - loss: 0.3445 - accuracy: 0.8548\n",
            "Epoch 45/50\n",
            "700/700 [==============================] - 1s 1ms/step - loss: 0.3478 - accuracy: 0.8567\n",
            "Epoch 46/50\n",
            "700/700 [==============================] - 1s 993us/step - loss: 0.3374 - accuracy: 0.8599\n",
            "Epoch 47/50\n",
            "700/700 [==============================] - 1s 995us/step - loss: 0.3263 - accuracy: 0.8635\n",
            "Epoch 48/50\n",
            "700/700 [==============================] - 1s 1ms/step - loss: 0.3335 - accuracy: 0.8613\n",
            "Epoch 49/50\n",
            "700/700 [==============================] - 1s 1ms/step - loss: 0.3332 - accuracy: 0.8608\n",
            "Epoch 50/50\n",
            "700/700 [==============================] - 1s 1ms/step - loss: 0.3398 - accuracy: 0.8594\n",
            "******* PLOT **********\n",
            "******* CLASSIFICATION REPORT **********\n",
            "              precision    recall  f1-score   support\n",
            "\n",
            "           0       0.88      0.96      0.92      2389\n",
            "           1       0.75      0.47      0.58       611\n",
            "\n",
            "    accuracy                           0.86      3000\n",
            "   macro avg       0.81      0.71      0.75      3000\n",
            "weighted avg       0.85      0.86      0.85      3000\n",
            "\n",
            "Accuracy Score:  0.86\n"
          ],
          "name": "stdout"
        },
        {
          "output_type": "execute_result",
          "data": {
            "text/plain": [
              "array([[0],\n",
              "       [0],\n",
              "       [1],\n",
              "       ...,\n",
              "       [0],\n",
              "       [0],\n",
              "       [0]])"
            ]
          },
          "metadata": {
            "tags": []
          },
          "execution_count": 32
        },
        {
          "output_type": "display_data",
          "data": {
            "image/png": "[encoded data removed]",
            "text/plain": [
              "<Figure size 432x288 with 1 Axes>"
            ]
          },
          "metadata": {
            "tags": [],
            "needs_background": "light"
          }
        }
      ]
    },
    {
      "cell_type": "markdown",
      "metadata": {
        "id": "zWQpyoMSZGup"
      },
      "source": [
        "Modelling the data as is without balancing does give us a good accuracy of 86%. But if we observe classification report, there is a high difference between f1 score for both the classes. Also it has a high recall score.\n",
        "\n",
        "Progressing with balanced dataset ahead."
      ]
    },
    {
      "cell_type": "markdown",
      "metadata": {
        "id": "5bKiNNNurrwT"
      },
      "source": [
        "Undersampling exited class 0 to number of records of class 1, so that we have balanced number of records for both the classes. "
      ]
    },
    {
      "cell_type": "code",
      "metadata": {
        "colab": {
          "base_uri": "https://localhost:8080/",
          "height": 0
        },
        "id": "wMMmZBxMrIfM",
        "outputId": "62f7a217-e457-49f1-b457-1150daca7f80"
      },
      "source": [
        "new_df['Exited'].value_counts()"
      ],
      "execution_count": 33,
      "outputs": [
        {
          "output_type": "execute_result",
          "data": {
            "text/plain": [
              "0    7963\n",
              "1    2037\n",
              "Name: Exited, dtype: int64"
            ]
          },
          "metadata": {
            "tags": []
          },
          "execution_count": 33
        }
      ]
    },
    {
      "cell_type": "code",
      "metadata": {
        "id": "DoTQLffesDx7"
      },
      "source": [
        "#Creating two variables to store number of record of both the classes for future use\n",
        "count_class_0, count_class_1 = new_df.Exited.value_counts()"
      ],
      "execution_count": 34,
      "outputs": []
    },
    {
      "cell_type": "code",
      "metadata": {
        "id": "9l-g0OFosQJd"
      },
      "source": [
        "df_class_0 = new_df[new_df['Exited']==0]\n",
        "df_class_1 = new_df[new_df['Exited']==1]"
      ],
      "execution_count": 35,
      "outputs": []
    },
    {
      "cell_type": "code",
      "metadata": {
        "id": "k4eTmLhasTW3"
      },
      "source": [
        "#Creating a undersample of class 0 w.r.t number of record of class 1\n",
        "df_class_0_under = df_class_0.sample(count_class_1)"
      ],
      "execution_count": 36,
      "outputs": []
    },
    {
      "cell_type": "code",
      "metadata": {
        "colab": {
          "base_uri": "https://localhost:8080/",
          "height": 0
        },
        "id": "437fjNjPs9ce",
        "outputId": "802cd47f-a201-4bed-eeaa-3946edb4a519"
      },
      "source": [
        "df_class_0_under.shape"
      ],
      "execution_count": 37,
      "outputs": [
        {
          "output_type": "execute_result",
          "data": {
            "text/plain": [
              "(2037, 11)"
            ]
          },
          "metadata": {
            "tags": []
          },
          "execution_count": 37
        }
      ]
    },
    {
      "cell_type": "code",
      "metadata": {
        "id": "kA48gWyhs_ms"
      },
      "source": [
        "#Concatenating records of both class 0 and class 1 to create dataset for modelling\n",
        "df_undersampling = pd.concat([df_class_0_under,df_class_1],axis=0)"
      ],
      "execution_count": 38,
      "outputs": []
    },
    {
      "cell_type": "code",
      "metadata": {
        "colab": {
          "base_uri": "https://localhost:8080/",
          "height": 0
        },
        "id": "944N5sN7tGPw",
        "outputId": "1e135e2c-d522-4c92-de13-4409234bdab4"
      },
      "source": [
        "df_undersampling['Exited'].value_counts()"
      ],
      "execution_count": 39,
      "outputs": [
        {
          "output_type": "execute_result",
          "data": {
            "text/plain": [
              "1    2037\n",
              "0    2037\n",
              "Name: Exited, dtype: int64"
            ]
          },
          "metadata": {
            "tags": []
          },
          "execution_count": 39
        }
      ]
    },
    {
      "cell_type": "markdown",
      "metadata": {
        "id": "PSqPtwX4Apoc"
      },
      "source": [
        "We can observe we now have a dataset with 2037 records for both the classes, creating a balanced dataset."
      ]
    },
    {
      "cell_type": "code",
      "metadata": {
        "id": "pVTrITWEtKkg"
      },
      "source": [
        "X = df_undersampling.drop('Exited',axis='columns')\n",
        "y = df_undersampling['Exited']\n",
        "\n",
        "X_train,X_test,y_train,y_test = train_test_split(X,y,test_size=0.3,random_state=15,stratify=y)"
      ],
      "execution_count": 40,
      "outputs": []
    },
    {
      "cell_type": "code",
      "metadata": {
        "colab": {
          "base_uri": "https://localhost:8080/",
          "height": 2288
        },
        "id": "mDV5eIuxtayZ",
        "outputId": "f4295d7a-7700-4bb5-89f3-8473f4c67189"
      },
      "source": [
        "Neural_Network(X,y,X_train,X_test,y_train,y_test)"
      ],
      "execution_count": 41,
      "outputs": [
        {
          "output_type": "stream",
          "text": [
            "Epoch 1/50\n",
            "286/286 [==============================] - 1s 1ms/step - loss: 0.7492 - accuracy: 0.4686\n",
            "Epoch 2/50\n",
            "286/286 [==============================] - 0s 1ms/step - loss: 0.6895 - accuracy: 0.5390\n",
            "Epoch 3/50\n",
            "286/286 [==============================] - 0s 1ms/step - loss: 0.6420 - accuracy: 0.6487\n",
            "Epoch 4/50\n",
            "286/286 [==============================] - 0s 1ms/step - loss: 0.5945 - accuracy: 0.6820\n",
            "Epoch 5/50\n",
            "286/286 [==============================] - 0s 1ms/step - loss: 0.5939 - accuracy: 0.6763\n",
            "Epoch 6/50\n",
            "286/286 [==============================] - 0s 1ms/step - loss: 0.5819 - accuracy: 0.6923\n",
            "Epoch 7/50\n",
            "286/286 [==============================] - 0s 1ms/step - loss: 0.5667 - accuracy: 0.7037\n",
            "Epoch 8/50\n",
            "286/286 [==============================] - 0s 1ms/step - loss: 0.5420 - accuracy: 0.7303\n",
            "Epoch 9/50\n",
            "286/286 [==============================] - 0s 1ms/step - loss: 0.5501 - accuracy: 0.7132\n",
            "Epoch 10/50\n",
            "286/286 [==============================] - 0s 1ms/step - loss: 0.5516 - accuracy: 0.7164\n",
            "Epoch 11/50\n",
            "286/286 [==============================] - 0s 1ms/step - loss: 0.5356 - accuracy: 0.7260\n",
            "Epoch 12/50\n",
            "286/286 [==============================] - 0s 1ms/step - loss: 0.5184 - accuracy: 0.7422\n",
            "Epoch 13/50\n",
            "286/286 [==============================] - 0s 1ms/step - loss: 0.5163 - accuracy: 0.7512\n",
            "Epoch 14/50\n",
            "286/286 [==============================] - 0s 1ms/step - loss: 0.5101 - accuracy: 0.7544\n",
            "Epoch 15/50\n",
            "286/286 [==============================] - 0s 1ms/step - loss: 0.5269 - accuracy: 0.7345\n",
            "Epoch 16/50\n",
            "286/286 [==============================] - 0s 1ms/step - loss: 0.5201 - accuracy: 0.7449\n",
            "Epoch 17/50\n",
            "286/286 [==============================] - 0s 1ms/step - loss: 0.5171 - accuracy: 0.7356\n",
            "Epoch 18/50\n",
            "286/286 [==============================] - 0s 1ms/step - loss: 0.5218 - accuracy: 0.7305\n",
            "Epoch 19/50\n",
            "286/286 [==============================] - 0s 1ms/step - loss: 0.5154 - accuracy: 0.7342\n",
            "Epoch 20/50\n",
            "286/286 [==============================] - 0s 1ms/step - loss: 0.4990 - accuracy: 0.7504\n",
            "Epoch 21/50\n",
            "286/286 [==============================] - 0s 1ms/step - loss: 0.5047 - accuracy: 0.7406\n",
            "Epoch 22/50\n",
            "286/286 [==============================] - 0s 1ms/step - loss: 0.5042 - accuracy: 0.7411\n",
            "Epoch 23/50\n",
            "286/286 [==============================] - 0s 1ms/step - loss: 0.5223 - accuracy: 0.7326\n",
            "Epoch 24/50\n",
            "286/286 [==============================] - 0s 1ms/step - loss: 0.4983 - accuracy: 0.7586\n",
            "Epoch 25/50\n",
            "286/286 [==============================] - 0s 1ms/step - loss: 0.4910 - accuracy: 0.7539\n",
            "Epoch 26/50\n",
            "286/286 [==============================] - 0s 1ms/step - loss: 0.5028 - accuracy: 0.7418\n",
            "Epoch 27/50\n",
            "286/286 [==============================] - 0s 1ms/step - loss: 0.4799 - accuracy: 0.7577\n",
            "Epoch 28/50\n",
            "286/286 [==============================] - 0s 1ms/step - loss: 0.4945 - accuracy: 0.7515\n",
            "Epoch 29/50\n",
            "286/286 [==============================] - 0s 1ms/step - loss: 0.4785 - accuracy: 0.7684\n",
            "Epoch 30/50\n",
            "286/286 [==============================] - 0s 1ms/step - loss: 0.4978 - accuracy: 0.7494\n",
            "Epoch 31/50\n",
            "286/286 [==============================] - 0s 1ms/step - loss: 0.5058 - accuracy: 0.7446\n",
            "Epoch 32/50\n",
            "286/286 [==============================] - 0s 1ms/step - loss: 0.5006 - accuracy: 0.7451\n",
            "Epoch 33/50\n",
            "286/286 [==============================] - 0s 1ms/step - loss: 0.5173 - accuracy: 0.7460\n",
            "Epoch 34/50\n",
            "286/286 [==============================] - 0s 1ms/step - loss: 0.5001 - accuracy: 0.7453\n",
            "Epoch 35/50\n",
            "286/286 [==============================] - 0s 1ms/step - loss: 0.4860 - accuracy: 0.7586\n",
            "Epoch 36/50\n",
            "286/286 [==============================] - 0s 1ms/step - loss: 0.5023 - accuracy: 0.7453\n",
            "Epoch 37/50\n",
            "286/286 [==============================] - 0s 1ms/step - loss: 0.4932 - accuracy: 0.7430\n",
            "Epoch 38/50\n",
            "286/286 [==============================] - 0s 1ms/step - loss: 0.5070 - accuracy: 0.7328\n",
            "Epoch 39/50\n",
            "286/286 [==============================] - 0s 1ms/step - loss: 0.4710 - accuracy: 0.7628\n",
            "Epoch 40/50\n",
            "286/286 [==============================] - 0s 1ms/step - loss: 0.4945 - accuracy: 0.7495\n",
            "Epoch 41/50\n",
            "286/286 [==============================] - 0s 1ms/step - loss: 0.4939 - accuracy: 0.7549\n",
            "Epoch 42/50\n",
            "286/286 [==============================] - 0s 1ms/step - loss: 0.4931 - accuracy: 0.7532\n",
            "Epoch 43/50\n",
            "286/286 [==============================] - 0s 1ms/step - loss: 0.4877 - accuracy: 0.7547\n",
            "Epoch 44/50\n",
            "286/286 [==============================] - 0s 1ms/step - loss: 0.4996 - accuracy: 0.7411\n",
            "Epoch 45/50\n",
            "286/286 [==============================] - 0s 1ms/step - loss: 0.4980 - accuracy: 0.7471\n",
            "Epoch 46/50\n",
            "286/286 [==============================] - 0s 1ms/step - loss: 0.4818 - accuracy: 0.7558\n",
            "Epoch 47/50\n",
            "286/286 [==============================] - 0s 1ms/step - loss: 0.4921 - accuracy: 0.7475\n",
            "Epoch 48/50\n",
            "286/286 [==============================] - 0s 1ms/step - loss: 0.4885 - accuracy: 0.7539\n",
            "Epoch 49/50\n",
            "286/286 [==============================] - 0s 1ms/step - loss: 0.4872 - accuracy: 0.7544\n",
            "Epoch 50/50\n",
            "286/286 [==============================] - 0s 1ms/step - loss: 0.4899 - accuracy: 0.7473\n",
            "******* PLOT **********\n",
            "******* CLASSIFICATION REPORT **********\n",
            "              precision    recall  f1-score   support\n",
            "\n",
            "           0       0.76      0.80      0.78       612\n",
            "           1       0.78      0.74      0.76       611\n",
            "\n",
            "    accuracy                           0.77      1223\n",
            "   macro avg       0.77      0.77      0.77      1223\n",
            "weighted avg       0.77      0.77      0.77      1223\n",
            "\n",
            "Accuracy Score:  0.7702371218315618\n"
          ],
          "name": "stdout"
        },
        {
          "output_type": "execute_result",
          "data": {
            "text/plain": [
              "array([[1],\n",
              "       [1],\n",
              "       [0],\n",
              "       ...,\n",
              "       [1],\n",
              "       [1],\n",
              "       [1]])"
            ]
          },
          "metadata": {
            "tags": []
          },
          "execution_count": 41
        },
        {
          "output_type": "display_data",
          "data": {
            "image/png": "[encoded data removed]",
            "text/plain": [
              "<Figure size 432x288 with 1 Axes>"
            ]
          },
          "metadata": {
            "tags": [],
            "needs_background": "light"
          }
        }
      ]
    },
    {
      "cell_type": "markdown",
      "metadata": {
        "id": "ooB4ZAbNv90c"
      },
      "source": [
        "Oversampling exited class 1 to number of records of class 0, so that we have balanced number of records for both the classes. "
      ]
    },
    {
      "cell_type": "code",
      "metadata": {
        "id": "c56vdHizu5mk"
      },
      "source": [
        "#Creating a oversample of class 1 w.r.t number of record of class 0\n",
        "df_class_1_over = df_class_1.sample(count_class_0,replace=True)"
      ],
      "execution_count": 42,
      "outputs": []
    },
    {
      "cell_type": "code",
      "metadata": {
        "id": "oSUkSN_GwC3y"
      },
      "source": [
        "#Concatenating records of both class 0 and class 1 to create dataset for modelling\n",
        "df_oversampling = pd.concat([df_class_0,df_class_1_over],axis=0)"
      ],
      "execution_count": 43,
      "outputs": []
    },
    {
      "cell_type": "code",
      "metadata": {
        "colab": {
          "base_uri": "https://localhost:8080/",
          "height": 0
        },
        "id": "VyVPKvdPwE9J",
        "outputId": "3fc1b75d-b3f5-439e-d738-76c73d17c0da"
      },
      "source": [
        "df_oversampling['Exited'].value_counts()"
      ],
      "execution_count": 44,
      "outputs": [
        {
          "output_type": "execute_result",
          "data": {
            "text/plain": [
              "1    7963\n",
              "0    7963\n",
              "Name: Exited, dtype: int64"
            ]
          },
          "metadata": {
            "tags": []
          },
          "execution_count": 44
        }
      ]
    },
    {
      "cell_type": "markdown",
      "metadata": {
        "id": "DJ1dEWKnBwNa"
      },
      "source": [
        "We can observe we now have a dataset with 7963 records for both the classes, creating a balanced dataset."
      ]
    },
    {
      "cell_type": "code",
      "metadata": {
        "id": "6cAGYpVXwHdF"
      },
      "source": [
        "X = df_oversampling.drop('Exited',axis='columns')\n",
        "y = df_oversampling['Exited']\n",
        "\n",
        "X_train,X_test,y_train,y_test = train_test_split(X,y,test_size=0.3,random_state=15,stratify=y)"
      ],
      "execution_count": 45,
      "outputs": []
    },
    {
      "cell_type": "code",
      "metadata": {
        "colab": {
          "base_uri": "https://localhost:8080/",
          "height": 2288
        },
        "id": "jhefJuY8wU_O",
        "outputId": "01a947be-cd83-4ce4-c0c4-d1529869fe51"
      },
      "source": [
        "Neural_Network(X,y,X_train,X_test,y_train,y_test)"
      ],
      "execution_count": 46,
      "outputs": [
        {
          "output_type": "stream",
          "text": [
            "Epoch 1/50\n",
            "1115/1115 [==============================] - 2s 1ms/step - loss: 0.7329 - accuracy: 0.4860\n",
            "Epoch 2/50\n",
            "1115/1115 [==============================] - 1s 1ms/step - loss: 0.6157 - accuracy: 0.6908\n",
            "Epoch 3/50\n",
            "1115/1115 [==============================] - 1s 1ms/step - loss: 0.5271 - accuracy: 0.7394\n",
            "Epoch 4/50\n",
            "1115/1115 [==============================] - 1s 1ms/step - loss: 0.5035 - accuracy: 0.7448\n",
            "Epoch 5/50\n",
            "1115/1115 [==============================] - 1s 1ms/step - loss: 0.4943 - accuracy: 0.7562\n",
            "Epoch 6/50\n",
            "1115/1115 [==============================] - 1s 1ms/step - loss: 0.4945 - accuracy: 0.7486\n",
            "Epoch 7/50\n",
            "1115/1115 [==============================] - 1s 1ms/step - loss: 0.4932 - accuracy: 0.7582\n",
            "Epoch 8/50\n",
            "1115/1115 [==============================] - 1s 1ms/step - loss: 0.4840 - accuracy: 0.7601\n",
            "Epoch 9/50\n",
            "1115/1115 [==============================] - 1s 1ms/step - loss: 0.4856 - accuracy: 0.7629\n",
            "Epoch 10/50\n",
            "1115/1115 [==============================] - 1s 1ms/step - loss: 0.4770 - accuracy: 0.7650\n",
            "Epoch 11/50\n",
            "1115/1115 [==============================] - 1s 1ms/step - loss: 0.4706 - accuracy: 0.7680\n",
            "Epoch 12/50\n",
            "1115/1115 [==============================] - 1s 1ms/step - loss: 0.4850 - accuracy: 0.7586\n",
            "Epoch 13/50\n",
            "1115/1115 [==============================] - 1s 1ms/step - loss: 0.4783 - accuracy: 0.7603\n",
            "Epoch 14/50\n",
            "1115/1115 [==============================] - 1s 1ms/step - loss: 0.4813 - accuracy: 0.7556\n",
            "Epoch 15/50\n",
            "1115/1115 [==============================] - 1s 1ms/step - loss: 0.4824 - accuracy: 0.7590\n",
            "Epoch 16/50\n",
            "1115/1115 [==============================] - 1s 1ms/step - loss: 0.4776 - accuracy: 0.7607\n",
            "Epoch 17/50\n",
            "1115/1115 [==============================] - 1s 1ms/step - loss: 0.4681 - accuracy: 0.7702\n",
            "Epoch 18/50\n",
            "1115/1115 [==============================] - 1s 1ms/step - loss: 0.4763 - accuracy: 0.7591\n",
            "Epoch 19/50\n",
            "1115/1115 [==============================] - 1s 1ms/step - loss: 0.4817 - accuracy: 0.7603\n",
            "Epoch 20/50\n",
            "1115/1115 [==============================] - 1s 1ms/step - loss: 0.4851 - accuracy: 0.7556\n",
            "Epoch 21/50\n",
            "1115/1115 [==============================] - 1s 1ms/step - loss: 0.4715 - accuracy: 0.7638\n",
            "Epoch 22/50\n",
            "1115/1115 [==============================] - 1s 1ms/step - loss: 0.4744 - accuracy: 0.7602\n",
            "Epoch 23/50\n",
            "1115/1115 [==============================] - 1s 1ms/step - loss: 0.4758 - accuracy: 0.7635\n",
            "Epoch 24/50\n",
            "1115/1115 [==============================] - 1s 1ms/step - loss: 0.4707 - accuracy: 0.7651\n",
            "Epoch 25/50\n",
            "1115/1115 [==============================] - 1s 1ms/step - loss: 0.4626 - accuracy: 0.7714\n",
            "Epoch 26/50\n",
            "1115/1115 [==============================] - 1s 1ms/step - loss: 0.4740 - accuracy: 0.7672\n",
            "Epoch 27/50\n",
            "1115/1115 [==============================] - 1s 1ms/step - loss: 0.4737 - accuracy: 0.7605\n",
            "Epoch 28/50\n",
            "1115/1115 [==============================] - 1s 1ms/step - loss: 0.4672 - accuracy: 0.7680\n",
            "Epoch 29/50\n",
            "1115/1115 [==============================] - 1s 1ms/step - loss: 0.4816 - accuracy: 0.7602\n",
            "Epoch 30/50\n",
            "1115/1115 [==============================] - 1s 1ms/step - loss: 0.4763 - accuracy: 0.7560\n",
            "Epoch 31/50\n",
            "1115/1115 [==============================] - 1s 1ms/step - loss: 0.4730 - accuracy: 0.7614\n",
            "Epoch 32/50\n",
            "1115/1115 [==============================] - 1s 1ms/step - loss: 0.4713 - accuracy: 0.7635\n",
            "Epoch 33/50\n",
            "1115/1115 [==============================] - 1s 1ms/step - loss: 0.4725 - accuracy: 0.7642\n",
            "Epoch 34/50\n",
            "1115/1115 [==============================] - 1s 1ms/step - loss: 0.4676 - accuracy: 0.7670\n",
            "Epoch 35/50\n",
            "1115/1115 [==============================] - 1s 1ms/step - loss: 0.4766 - accuracy: 0.7593\n",
            "Epoch 36/50\n",
            "1115/1115 [==============================] - 1s 1ms/step - loss: 0.4718 - accuracy: 0.7666\n",
            "Epoch 37/50\n",
            "1115/1115 [==============================] - 1s 1ms/step - loss: 0.4729 - accuracy: 0.7644\n",
            "Epoch 38/50\n",
            "1115/1115 [==============================] - 1s 1ms/step - loss: 0.4708 - accuracy: 0.7656\n",
            "Epoch 39/50\n",
            "1115/1115 [==============================] - 1s 1ms/step - loss: 0.4781 - accuracy: 0.7606\n",
            "Epoch 40/50\n",
            "1115/1115 [==============================] - 1s 1ms/step - loss: 0.4642 - accuracy: 0.7678\n",
            "Epoch 41/50\n",
            "1115/1115 [==============================] - 1s 1ms/step - loss: 0.4683 - accuracy: 0.7732\n",
            "Epoch 42/50\n",
            "1115/1115 [==============================] - 1s 1ms/step - loss: 0.4668 - accuracy: 0.7676\n",
            "Epoch 43/50\n",
            "1115/1115 [==============================] - 1s 1ms/step - loss: 0.4704 - accuracy: 0.7664\n",
            "Epoch 44/50\n",
            "1115/1115 [==============================] - 1s 1ms/step - loss: 0.4694 - accuracy: 0.7668\n",
            "Epoch 45/50\n",
            "1115/1115 [==============================] - 1s 1ms/step - loss: 0.4757 - accuracy: 0.7660\n",
            "Epoch 46/50\n",
            "1115/1115 [==============================] - 1s 1ms/step - loss: 0.4730 - accuracy: 0.7684\n",
            "Epoch 47/50\n",
            "1115/1115 [==============================] - 1s 1ms/step - loss: 0.4786 - accuracy: 0.7640\n",
            "Epoch 48/50\n",
            "1115/1115 [==============================] - 1s 1ms/step - loss: 0.4644 - accuracy: 0.7715\n",
            "Epoch 49/50\n",
            "1115/1115 [==============================] - 1s 1ms/step - loss: 0.4767 - accuracy: 0.7647\n",
            "Epoch 50/50\n",
            "1115/1115 [==============================] - 1s 1ms/step - loss: 0.4597 - accuracy: 0.7734\n",
            "******* PLOT **********\n",
            "******* CLASSIFICATION REPORT **********\n",
            "              precision    recall  f1-score   support\n",
            "\n",
            "           0       0.76      0.76      0.76      2389\n",
            "           1       0.76      0.76      0.76      2389\n",
            "\n",
            "    accuracy                           0.76      4778\n",
            "   macro avg       0.76      0.76      0.76      4778\n",
            "weighted avg       0.76      0.76      0.76      4778\n",
            "\n",
            "Accuracy Score:  0.7584763499372122\n"
          ],
          "name": "stdout"
        },
        {
          "output_type": "execute_result",
          "data": {
            "text/plain": [
              "array([[0],\n",
              "       [0],\n",
              "       [1],\n",
              "       ...,\n",
              "       [0],\n",
              "       [0],\n",
              "       [1]])"
            ]
          },
          "metadata": {
            "tags": []
          },
          "execution_count": 46
        },
        {
          "output_type": "display_data",
          "data": {
            "image/png": "[encoded data removed]",
            "text/plain": [
              "<Figure size 432x288 with 1 Axes>"
            ]
          },
          "metadata": {
            "tags": [],
            "needs_background": "light"
          }
        }
      ]
    },
    {
      "cell_type": "markdown",
      "metadata": {
        "id": "Ufqk_2xDxT_a"
      },
      "source": [
        "SMOTE Technique"
      ]
    },
    {
      "cell_type": "markdown",
      "metadata": {
        "id": "m2GymmO0bElq"
      },
      "source": [
        "Using SMOTE technique to balance the dataset for class with minor number of records, so that we have equal number of records for both the classes. This technique creates releavant data for class with minor number of records for balancing."
      ]
    },
    {
      "cell_type": "code",
      "metadata": {
        "id": "forHv9bxwcKT"
      },
      "source": [
        "X = new_df.drop('Exited',axis='columns')\n",
        "y = new_df['Exited']"
      ],
      "execution_count": 47,
      "outputs": []
    },
    {
      "cell_type": "code",
      "metadata": {
        "id": "o5uHTPNGxcY5"
      },
      "source": [
        "from imblearn.over_sampling import SMOTE\n",
        "\n",
        "smote = SMOTE(sampling_strategy='minority')\n",
        "X_sm,y_sm=smote.fit_sample(X,y)"
      ],
      "execution_count": 48,
      "outputs": []
    },
    {
      "cell_type": "code",
      "metadata": {
        "id": "RrMnAjwmxe15"
      },
      "source": [
        "X_train,X_test,y_train,y_test = train_test_split(X_sm,y_sm,test_size=0.3,random_state=15,stratify=y_sm)"
      ],
      "execution_count": 49,
      "outputs": []
    },
    {
      "cell_type": "code",
      "metadata": {
        "colab": {
          "base_uri": "https://localhost:8080/",
          "height": 2288
        },
        "id": "9tlAdDLlxiQJ",
        "outputId": "b84cf7f6-f92e-4092-f9b1-51a8d6a61683"
      },
      "source": [
        "Neural_Network(X_sm,y_sm,X_train,X_test,y_train,y_test)"
      ],
      "execution_count": 50,
      "outputs": [
        {
          "output_type": "stream",
          "text": [
            "Epoch 1/50\n",
            "1115/1115 [==============================] - 2s 1ms/step - loss: 0.6818 - accuracy: 0.5949\n",
            "Epoch 2/50\n",
            "1115/1115 [==============================] - 1s 1ms/step - loss: 0.5402 - accuracy: 0.7384\n",
            "Epoch 3/50\n",
            "1115/1115 [==============================] - 1s 1ms/step - loss: 0.5044 - accuracy: 0.7478\n",
            "Epoch 4/50\n",
            "1115/1115 [==============================] - 1s 1ms/step - loss: 0.4883 - accuracy: 0.7603\n",
            "Epoch 5/50\n",
            "1115/1115 [==============================] - 1s 1ms/step - loss: 0.4858 - accuracy: 0.7584\n",
            "Epoch 6/50\n",
            "1115/1115 [==============================] - 1s 1ms/step - loss: 0.4657 - accuracy: 0.7748\n",
            "Epoch 7/50\n",
            "1115/1115 [==============================] - 1s 1ms/step - loss: 0.4766 - accuracy: 0.7689\n",
            "Epoch 8/50\n",
            "1115/1115 [==============================] - 1s 1ms/step - loss: 0.4687 - accuracy: 0.7704\n",
            "Epoch 9/50\n",
            "1115/1115 [==============================] - 1s 1ms/step - loss: 0.4586 - accuracy: 0.7775\n",
            "Epoch 10/50\n",
            "1115/1115 [==============================] - 1s 1ms/step - loss: 0.4643 - accuracy: 0.7786\n",
            "Epoch 11/50\n",
            "1115/1115 [==============================] - 1s 1ms/step - loss: 0.4710 - accuracy: 0.7723\n",
            "Epoch 12/50\n",
            "1115/1115 [==============================] - 1s 1ms/step - loss: 0.4591 - accuracy: 0.7781\n",
            "Epoch 13/50\n",
            "1115/1115 [==============================] - 1s 1ms/step - loss: 0.4656 - accuracy: 0.7769\n",
            "Epoch 14/50\n",
            "1115/1115 [==============================] - 1s 1ms/step - loss: 0.4683 - accuracy: 0.7716\n",
            "Epoch 15/50\n",
            "1115/1115 [==============================] - 1s 1ms/step - loss: 0.4697 - accuracy: 0.7684\n",
            "Epoch 16/50\n",
            "1115/1115 [==============================] - 1s 1ms/step - loss: 0.4509 - accuracy: 0.7847\n",
            "Epoch 17/50\n",
            "1115/1115 [==============================] - 1s 1ms/step - loss: 0.4588 - accuracy: 0.7776\n",
            "Epoch 18/50\n",
            "1115/1115 [==============================] - 1s 1ms/step - loss: 0.4558 - accuracy: 0.7801\n",
            "Epoch 19/50\n",
            "1115/1115 [==============================] - 1s 1ms/step - loss: 0.4578 - accuracy: 0.7775\n",
            "Epoch 20/50\n",
            "1115/1115 [==============================] - 1s 1ms/step - loss: 0.4561 - accuracy: 0.7803\n",
            "Epoch 21/50\n",
            "1115/1115 [==============================] - 1s 1ms/step - loss: 0.4638 - accuracy: 0.7692\n",
            "Epoch 22/50\n",
            "1115/1115 [==============================] - 1s 1ms/step - loss: 0.4511 - accuracy: 0.7848\n",
            "Epoch 23/50\n",
            "1115/1115 [==============================] - 1s 1ms/step - loss: 0.4599 - accuracy: 0.7809\n",
            "Epoch 24/50\n",
            "1115/1115 [==============================] - 1s 1ms/step - loss: 0.4569 - accuracy: 0.7758\n",
            "Epoch 25/50\n",
            "1115/1115 [==============================] - 1s 1ms/step - loss: 0.4573 - accuracy: 0.7769\n",
            "Epoch 26/50\n",
            "1115/1115 [==============================] - 1s 1ms/step - loss: 0.4614 - accuracy: 0.7757\n",
            "Epoch 27/50\n",
            "1115/1115 [==============================] - 1s 1ms/step - loss: 0.4569 - accuracy: 0.7777\n",
            "Epoch 28/50\n",
            "1115/1115 [==============================] - 1s 1ms/step - loss: 0.4517 - accuracy: 0.7824\n",
            "Epoch 29/50\n",
            "1115/1115 [==============================] - 1s 1ms/step - loss: 0.4590 - accuracy: 0.7742\n",
            "Epoch 30/50\n",
            "1115/1115 [==============================] - 1s 1ms/step - loss: 0.4594 - accuracy: 0.7737\n",
            "Epoch 31/50\n",
            "1115/1115 [==============================] - 1s 1ms/step - loss: 0.4573 - accuracy: 0.7787\n",
            "Epoch 32/50\n",
            "1115/1115 [==============================] - 1s 1ms/step - loss: 0.4559 - accuracy: 0.7757\n",
            "Epoch 33/50\n",
            "1115/1115 [==============================] - 1s 1ms/step - loss: 0.4610 - accuracy: 0.7748\n",
            "Epoch 34/50\n",
            "1115/1115 [==============================] - 1s 1ms/step - loss: 0.4559 - accuracy: 0.7711\n",
            "Epoch 35/50\n",
            "1115/1115 [==============================] - 1s 1ms/step - loss: 0.4508 - accuracy: 0.7781\n",
            "Epoch 36/50\n",
            "1115/1115 [==============================] - 1s 1ms/step - loss: 0.4583 - accuracy: 0.7750\n",
            "Epoch 37/50\n",
            "1115/1115 [==============================] - 1s 1ms/step - loss: 0.4458 - accuracy: 0.7850\n",
            "Epoch 38/50\n",
            "1115/1115 [==============================] - 1s 1ms/step - loss: 0.4443 - accuracy: 0.7854\n",
            "Epoch 39/50\n",
            "1115/1115 [==============================] - 1s 1ms/step - loss: 0.4501 - accuracy: 0.7794\n",
            "Epoch 40/50\n",
            "1115/1115 [==============================] - 1s 1ms/step - loss: 0.4448 - accuracy: 0.7816\n",
            "Epoch 41/50\n",
            "1115/1115 [==============================] - 1s 1ms/step - loss: 0.4559 - accuracy: 0.7762\n",
            "Epoch 42/50\n",
            "1115/1115 [==============================] - 1s 1ms/step - loss: 0.4559 - accuracy: 0.7794\n",
            "Epoch 43/50\n",
            "1115/1115 [==============================] - 1s 1ms/step - loss: 0.4594 - accuracy: 0.7732\n",
            "Epoch 44/50\n",
            "1115/1115 [==============================] - 1s 1ms/step - loss: 0.4535 - accuracy: 0.7756\n",
            "Epoch 45/50\n",
            "1115/1115 [==============================] - 1s 1ms/step - loss: 0.4542 - accuracy: 0.7758\n",
            "Epoch 46/50\n",
            "1115/1115 [==============================] - 1s 1ms/step - loss: 0.4543 - accuracy: 0.7837\n",
            "Epoch 47/50\n",
            "1115/1115 [==============================] - 1s 1ms/step - loss: 0.4550 - accuracy: 0.7810\n",
            "Epoch 48/50\n",
            "1115/1115 [==============================] - 1s 1ms/step - loss: 0.4450 - accuracy: 0.7844\n",
            "Epoch 49/50\n",
            "1115/1115 [==============================] - 1s 1ms/step - loss: 0.4515 - accuracy: 0.7783\n",
            "Epoch 50/50\n",
            "1115/1115 [==============================] - 1s 1ms/step - loss: 0.4537 - accuracy: 0.7781\n",
            "******* PLOT **********\n",
            "******* CLASSIFICATION REPORT **********\n",
            "              precision    recall  f1-score   support\n",
            "\n",
            "           0       0.77      0.80      0.79      2389\n",
            "           1       0.79      0.76      0.78      2389\n",
            "\n",
            "    accuracy                           0.78      4778\n",
            "   macro avg       0.78      0.78      0.78      4778\n",
            "weighted avg       0.78      0.78      0.78      4778\n",
            "\n",
            "Accuracy Score:  0.781707827542905\n"
          ],
          "name": "stdout"
        },
        {
          "output_type": "execute_result",
          "data": {
            "text/plain": [
              "array([[0],\n",
              "       [1],\n",
              "       [1],\n",
              "       ...,\n",
              "       [0],\n",
              "       [0],\n",
              "       [1]])"
            ]
          },
          "metadata": {
            "tags": []
          },
          "execution_count": 50
        },
        {
          "output_type": "display_data",
          "data": {
            "image/png": "[encoded data removed]",
            "text/plain": [
              "<Figure size 432x288 with 1 Axes>"
            ]
          },
          "metadata": {
            "tags": [],
            "needs_background": "light"
          }
        }
      ]
    },
    {
      "cell_type": "markdown",
      "metadata": {
        "id": "MkQn3wynyKij"
      },
      "source": [
        "Use of Ensemble with undersampling"
      ]
    },
    {
      "cell_type": "markdown",
      "metadata": {
        "id": "nqKRK9x_bocJ"
      },
      "source": [
        "As the column Exited class 0 has 4 times greater number of records as compared to class 1, diving the class 0 into equal number of 4 batches and concatenating the sub-batch with class 1 to create a balanced dataset."
      ]
    },
    {
      "cell_type": "code",
      "metadata": {
        "id": "Bb9lr9rGxsk2"
      },
      "source": [
        "X = new_df.drop('Exited',axis='columns')\n",
        "y = new_df['Exited']\n",
        "\n",
        "X_train,X_test,y_train,y_test = train_test_split(X,y,test_size=0.3,random_state=15,stratify=y)"
      ],
      "execution_count": 51,
      "outputs": []
    },
    {
      "cell_type": "code",
      "metadata": {
        "id": "nUGU4px9yUUW"
      },
      "source": [
        "temp_df = X_train.copy()\n",
        "temp_df['Exited'] = y_train\n",
        "\n",
        "df3_class_0 = temp_df[temp_df['Exited']==0]\n",
        "df3_class_1 = temp_df[temp_df['Exited']==1]"
      ],
      "execution_count": 52,
      "outputs": []
    },
    {
      "cell_type": "code",
      "metadata": {
        "colab": {
          "base_uri": "https://localhost:8080/",
          "height": 0
        },
        "id": "RwmjlwS5zgZ7",
        "outputId": "cdd1f906-d433-4a23-934d-f729b4201df8"
      },
      "source": [
        "print(df3_class_0.shape,\" , \", df3_class_1.shape) #1394"
      ],
      "execution_count": 53,
      "outputs": [
        {
          "output_type": "stream",
          "text": [
            "(5574, 11)  ,  (1426, 11)\n"
          ],
          "name": "stdout"
        }
      ]
    },
    {
      "cell_type": "markdown",
      "metadata": {
        "id": "u28pkqSBcEyR"
      },
      "source": [
        "Function to create batches of dataset"
      ]
    },
    {
      "cell_type": "code",
      "metadata": {
        "id": "k-XNxLSoybVp"
      },
      "source": [
        "def get_train_batch(df_majority,df_minority,start,end):\n",
        "  df_train = pd.concat([df_majority[start:end],df_minority],axis=0)\n",
        "\n",
        "  X_train = df_train.drop('Exited',axis='columns')\n",
        "  y_train = df_train.Exited\n",
        "\n",
        "  return X_train,y_train"
      ],
      "execution_count": 54,
      "outputs": []
    },
    {
      "cell_type": "markdown",
      "metadata": {
        "id": "lucgKnW4I-xt"
      },
      "source": [
        "Batch 1 of Ensemble Technique"
      ]
    },
    {
      "cell_type": "code",
      "metadata": {
        "id": "_0gsiOco05fu"
      },
      "source": [
        "X_train, y_train = get_train_batch(df3_class_0,df3_class_1,0,1394)"
      ],
      "execution_count": 55,
      "outputs": []
    },
    {
      "cell_type": "code",
      "metadata": {
        "colab": {
          "base_uri": "https://localhost:8080/",
          "height": 2169
        },
        "id": "xZ29mQ42yvQa",
        "outputId": "8ad4e2ae-10cc-4970-cf0c-f5c26fd51e53"
      },
      "source": [
        "y_pred1 = Neural_Network(X,y,X_train,X_test,y_train,y_test)"
      ],
      "execution_count": 56,
      "outputs": [
        {
          "output_type": "stream",
          "text": [
            "Epoch 1/50\n",
            "282/282 [==============================] - 1s 1ms/step - loss: 0.7414 - accuracy: 0.5143\n",
            "Epoch 2/50\n",
            "282/282 [==============================] - 0s 991us/step - loss: 0.6523 - accuracy: 0.6193\n",
            "Epoch 3/50\n",
            "282/282 [==============================] - 0s 1ms/step - loss: 0.6193 - accuracy: 0.6589\n",
            "Epoch 4/50\n",
            "282/282 [==============================] - 0s 1ms/step - loss: 0.5890 - accuracy: 0.7006\n",
            "Epoch 5/50\n",
            "282/282 [==============================] - 0s 1ms/step - loss: 0.5663 - accuracy: 0.7218\n",
            "Epoch 6/50\n",
            "282/282 [==============================] - 0s 986us/step - loss: 0.5472 - accuracy: 0.7383\n",
            "Epoch 7/50\n",
            "282/282 [==============================] - 0s 1ms/step - loss: 0.5229 - accuracy: 0.7549\n",
            "Epoch 8/50\n",
            "282/282 [==============================] - 0s 1ms/step - loss: 0.5335 - accuracy: 0.7383\n",
            "Epoch 9/50\n",
            "282/282 [==============================] - 0s 1ms/step - loss: 0.5184 - accuracy: 0.7405\n",
            "Epoch 10/50\n",
            "282/282 [==============================] - 0s 1ms/step - loss: 0.5168 - accuracy: 0.7403\n",
            "Epoch 11/50\n",
            "282/282 [==============================] - 0s 1ms/step - loss: 0.5122 - accuracy: 0.7447\n",
            "Epoch 12/50\n",
            "282/282 [==============================] - 0s 984us/step - loss: 0.5039 - accuracy: 0.7442\n",
            "Epoch 13/50\n",
            "282/282 [==============================] - 0s 1ms/step - loss: 0.4960 - accuracy: 0.7528\n",
            "Epoch 14/50\n",
            "282/282 [==============================] - 0s 1ms/step - loss: 0.5063 - accuracy: 0.7520\n",
            "Epoch 15/50\n",
            "282/282 [==============================] - 0s 994us/step - loss: 0.5105 - accuracy: 0.7469\n",
            "Epoch 16/50\n",
            "282/282 [==============================] - 0s 985us/step - loss: 0.5094 - accuracy: 0.7427\n",
            "Epoch 17/50\n",
            "282/282 [==============================] - 0s 1ms/step - loss: 0.5081 - accuracy: 0.7463\n",
            "Epoch 18/50\n",
            "282/282 [==============================] - 0s 1ms/step - loss: 0.4888 - accuracy: 0.7669\n",
            "Epoch 19/50\n",
            "282/282 [==============================] - 0s 957us/step - loss: 0.4848 - accuracy: 0.7539\n",
            "Epoch 20/50\n",
            "282/282 [==============================] - 0s 1ms/step - loss: 0.5053 - accuracy: 0.7466\n",
            "Epoch 21/50\n",
            "282/282 [==============================] - 0s 1000us/step - loss: 0.4942 - accuracy: 0.7538\n",
            "Epoch 22/50\n",
            "282/282 [==============================] - 0s 1ms/step - loss: 0.4767 - accuracy: 0.7682\n",
            "Epoch 23/50\n",
            "282/282 [==============================] - 0s 1ms/step - loss: 0.4748 - accuracy: 0.7680\n",
            "Epoch 24/50\n",
            "282/282 [==============================] - 0s 1ms/step - loss: 0.4990 - accuracy: 0.7491\n",
            "Epoch 25/50\n",
            "282/282 [==============================] - 0s 1ms/step - loss: 0.4875 - accuracy: 0.7568\n",
            "Epoch 26/50\n",
            "282/282 [==============================] - 0s 995us/step - loss: 0.4880 - accuracy: 0.7515\n",
            "Epoch 27/50\n",
            "282/282 [==============================] - 0s 1ms/step - loss: 0.4752 - accuracy: 0.7654\n",
            "Epoch 28/50\n",
            "282/282 [==============================] - 0s 1ms/step - loss: 0.4759 - accuracy: 0.7604\n",
            "Epoch 29/50\n",
            "282/282 [==============================] - 0s 1ms/step - loss: 0.4779 - accuracy: 0.7659\n",
            "Epoch 30/50\n",
            "282/282 [==============================] - 0s 1ms/step - loss: 0.4739 - accuracy: 0.7611\n",
            "Epoch 31/50\n",
            "282/282 [==============================] - 0s 1ms/step - loss: 0.4874 - accuracy: 0.7594\n",
            "Epoch 32/50\n",
            "282/282 [==============================] - 0s 1ms/step - loss: 0.4882 - accuracy: 0.7507\n",
            "Epoch 33/50\n",
            "282/282 [==============================] - 0s 1ms/step - loss: 0.4748 - accuracy: 0.7624\n",
            "Epoch 34/50\n",
            "282/282 [==============================] - 0s 1ms/step - loss: 0.4909 - accuracy: 0.7588\n",
            "Epoch 35/50\n",
            "282/282 [==============================] - 0s 1ms/step - loss: 0.4755 - accuracy: 0.7656\n",
            "Epoch 36/50\n",
            "282/282 [==============================] - 0s 1ms/step - loss: 0.4708 - accuracy: 0.7681\n",
            "Epoch 37/50\n",
            "282/282 [==============================] - 0s 1ms/step - loss: 0.4803 - accuracy: 0.7565\n",
            "Epoch 38/50\n",
            "282/282 [==============================] - 0s 1ms/step - loss: 0.4803 - accuracy: 0.7571\n",
            "Epoch 39/50\n",
            "282/282 [==============================] - 0s 1ms/step - loss: 0.4898 - accuracy: 0.7473\n",
            "Epoch 40/50\n",
            "282/282 [==============================] - 0s 1ms/step - loss: 0.4695 - accuracy: 0.7680\n",
            "Epoch 41/50\n",
            "282/282 [==============================] - 0s 1ms/step - loss: 0.4834 - accuracy: 0.7545\n",
            "Epoch 42/50\n",
            "282/282 [==============================] - 0s 1ms/step - loss: 0.5003 - accuracy: 0.7428\n",
            "Epoch 43/50\n",
            "282/282 [==============================] - 0s 1ms/step - loss: 0.4740 - accuracy: 0.7635\n",
            "Epoch 44/50\n",
            "282/282 [==============================] - 0s 1ms/step - loss: 0.4729 - accuracy: 0.7750\n",
            "Epoch 45/50\n",
            "282/282 [==============================] - 0s 1ms/step - loss: 0.4910 - accuracy: 0.7519\n",
            "Epoch 46/50\n",
            "282/282 [==============================] - 0s 1ms/step - loss: 0.4796 - accuracy: 0.7613\n",
            "Epoch 47/50\n",
            "282/282 [==============================] - 0s 1ms/step - loss: 0.4785 - accuracy: 0.7669\n",
            "Epoch 48/50\n",
            "282/282 [==============================] - 0s 1ms/step - loss: 0.4666 - accuracy: 0.7742\n",
            "Epoch 49/50\n",
            "282/282 [==============================] - 0s 1ms/step - loss: 0.4933 - accuracy: 0.7540\n",
            "Epoch 50/50\n",
            "282/282 [==============================] - 0s 1ms/step - loss: 0.4772 - accuracy: 0.7679\n",
            "******* PLOT **********\n",
            "******* CLASSIFICATION REPORT **********\n",
            "              precision    recall  f1-score   support\n",
            "\n",
            "           0       0.93      0.73      0.82      2389\n",
            "           1       0.42      0.77      0.55       611\n",
            "\n",
            "    accuracy                           0.74      3000\n",
            "   macro avg       0.67      0.75      0.68      3000\n",
            "weighted avg       0.82      0.74      0.76      3000\n",
            "\n",
            "Accuracy Score:  0.7403333333333333\n"
          ],
          "name": "stdout"
        },
        {
          "output_type": "display_data",
          "data": {
            "image/png": "[encoded data removed]",
            "text/plain": [
              "<Figure size 432x288 with 1 Axes>"
            ]
          },
          "metadata": {
            "tags": [],
            "needs_background": "light"
          }
        }
      ]
    },
    {
      "cell_type": "markdown",
      "metadata": {
        "id": "LY2jllkiJE-2"
      },
      "source": [
        "Batch 2 of Ensemble Technique"
      ]
    },
    {
      "cell_type": "code",
      "metadata": {
        "id": "Nj_QrxGv1Xs_"
      },
      "source": [
        "X_train, y_train = get_train_batch(df3_class_0,df3_class_1,1394,2788)"
      ],
      "execution_count": 57,
      "outputs": []
    },
    {
      "cell_type": "code",
      "metadata": {
        "colab": {
          "base_uri": "https://localhost:8080/",
          "height": 2169
        },
        "id": "S0KqbLYT1pgk",
        "outputId": "b881805c-6544-4354-acb3-515169ba12fe"
      },
      "source": [
        "y_pred2 = Neural_Network(X,y,X_train,X_test,y_train,y_test)"
      ],
      "execution_count": 58,
      "outputs": [
        {
          "output_type": "stream",
          "text": [
            "Epoch 1/50\n",
            "282/282 [==============================] - 1s 1ms/step - loss: 0.7059 - accuracy: 0.4510\n",
            "Epoch 2/50\n",
            "282/282 [==============================] - 0s 943us/step - loss: 0.6831 - accuracy: 0.5401\n",
            "Epoch 3/50\n",
            "282/282 [==============================] - 0s 1ms/step - loss: 0.6373 - accuracy: 0.6699\n",
            "Epoch 4/50\n",
            "282/282 [==============================] - 0s 984us/step - loss: 0.5820 - accuracy: 0.7083\n",
            "Epoch 5/50\n",
            "282/282 [==============================] - 0s 1ms/step - loss: 0.5680 - accuracy: 0.7142\n",
            "Epoch 6/50\n",
            "282/282 [==============================] - 0s 1ms/step - loss: 0.5595 - accuracy: 0.7133\n",
            "Epoch 7/50\n",
            "282/282 [==============================] - 0s 1ms/step - loss: 0.5571 - accuracy: 0.7184\n",
            "Epoch 8/50\n",
            "282/282 [==============================] - 0s 1ms/step - loss: 0.5433 - accuracy: 0.7280\n",
            "Epoch 9/50\n",
            "282/282 [==============================] - 0s 1ms/step - loss: 0.5207 - accuracy: 0.7439\n",
            "Epoch 10/50\n",
            "282/282 [==============================] - 0s 1ms/step - loss: 0.5272 - accuracy: 0.7289\n",
            "Epoch 11/50\n",
            "282/282 [==============================] - 0s 1ms/step - loss: 0.5247 - accuracy: 0.7367\n",
            "Epoch 12/50\n",
            "282/282 [==============================] - 0s 1ms/step - loss: 0.5168 - accuracy: 0.7508\n",
            "Epoch 13/50\n",
            "282/282 [==============================] - 0s 1ms/step - loss: 0.5063 - accuracy: 0.7577\n",
            "Epoch 14/50\n",
            "282/282 [==============================] - 0s 1ms/step - loss: 0.5042 - accuracy: 0.7559\n",
            "Epoch 15/50\n",
            "282/282 [==============================] - 0s 1ms/step - loss: 0.4760 - accuracy: 0.7756\n",
            "Epoch 16/50\n",
            "282/282 [==============================] - 0s 1ms/step - loss: 0.4803 - accuracy: 0.7745\n",
            "Epoch 17/50\n",
            "282/282 [==============================] - 0s 1ms/step - loss: 0.4966 - accuracy: 0.7673\n",
            "Epoch 18/50\n",
            "282/282 [==============================] - 0s 1ms/step - loss: 0.4799 - accuracy: 0.7706\n",
            "Epoch 19/50\n",
            "282/282 [==============================] - 0s 1ms/step - loss: 0.4859 - accuracy: 0.7649\n",
            "Epoch 20/50\n",
            "282/282 [==============================] - 0s 1ms/step - loss: 0.4930 - accuracy: 0.7659\n",
            "Epoch 21/50\n",
            "282/282 [==============================] - 0s 1ms/step - loss: 0.4882 - accuracy: 0.7690\n",
            "Epoch 22/50\n",
            "282/282 [==============================] - 0s 1ms/step - loss: 0.5039 - accuracy: 0.7501\n",
            "Epoch 23/50\n",
            "282/282 [==============================] - 0s 1ms/step - loss: 0.4727 - accuracy: 0.7767\n",
            "Epoch 24/50\n",
            "282/282 [==============================] - 0s 1ms/step - loss: 0.4902 - accuracy: 0.7681\n",
            "Epoch 25/50\n",
            "282/282 [==============================] - 0s 1ms/step - loss: 0.5082 - accuracy: 0.7443\n",
            "Epoch 26/50\n",
            "282/282 [==============================] - 0s 1ms/step - loss: 0.4908 - accuracy: 0.7644\n",
            "Epoch 27/50\n",
            "282/282 [==============================] - 0s 1ms/step - loss: 0.4870 - accuracy: 0.7686\n",
            "Epoch 28/50\n",
            "282/282 [==============================] - 0s 1ms/step - loss: 0.4630 - accuracy: 0.7780\n",
            "Epoch 29/50\n",
            "282/282 [==============================] - 0s 1ms/step - loss: 0.4751 - accuracy: 0.7799\n",
            "Epoch 30/50\n",
            "282/282 [==============================] - 0s 1ms/step - loss: 0.4824 - accuracy: 0.7729\n",
            "Epoch 31/50\n",
            "282/282 [==============================] - 0s 1ms/step - loss: 0.4785 - accuracy: 0.7686\n",
            "Epoch 32/50\n",
            "282/282 [==============================] - 0s 1ms/step - loss: 0.4897 - accuracy: 0.7597\n",
            "Epoch 33/50\n",
            "282/282 [==============================] - 0s 1ms/step - loss: 0.4760 - accuracy: 0.7761\n",
            "Epoch 34/50\n",
            "282/282 [==============================] - 0s 1ms/step - loss: 0.4755 - accuracy: 0.7845\n",
            "Epoch 35/50\n",
            "282/282 [==============================] - 0s 1ms/step - loss: 0.4747 - accuracy: 0.7743\n",
            "Epoch 36/50\n",
            "282/282 [==============================] - 0s 1ms/step - loss: 0.4776 - accuracy: 0.7664\n",
            "Epoch 37/50\n",
            "282/282 [==============================] - 0s 1ms/step - loss: 0.4654 - accuracy: 0.7841\n",
            "Epoch 38/50\n",
            "282/282 [==============================] - 0s 1ms/step - loss: 0.4685 - accuracy: 0.7794\n",
            "Epoch 39/50\n",
            "282/282 [==============================] - 0s 1ms/step - loss: 0.4785 - accuracy: 0.7700\n",
            "Epoch 40/50\n",
            "282/282 [==============================] - 0s 1ms/step - loss: 0.4841 - accuracy: 0.7699\n",
            "Epoch 41/50\n",
            "282/282 [==============================] - 0s 1ms/step - loss: 0.4742 - accuracy: 0.7745\n",
            "Epoch 42/50\n",
            "282/282 [==============================] - 0s 1ms/step - loss: 0.4497 - accuracy: 0.7896\n",
            "Epoch 43/50\n",
            "282/282 [==============================] - 0s 1ms/step - loss: 0.4712 - accuracy: 0.7648\n",
            "Epoch 44/50\n",
            "282/282 [==============================] - 0s 1ms/step - loss: 0.4618 - accuracy: 0.7756\n",
            "Epoch 45/50\n",
            "282/282 [==============================] - 0s 1ms/step - loss: 0.4797 - accuracy: 0.7735\n",
            "Epoch 46/50\n",
            "282/282 [==============================] - 0s 1ms/step - loss: 0.4900 - accuracy: 0.7573\n",
            "Epoch 47/50\n",
            "282/282 [==============================] - 0s 1ms/step - loss: 0.4740 - accuracy: 0.7709\n",
            "Epoch 48/50\n",
            "282/282 [==============================] - 0s 1ms/step - loss: 0.4867 - accuracy: 0.7747\n",
            "Epoch 49/50\n",
            "282/282 [==============================] - 0s 1ms/step - loss: 0.4795 - accuracy: 0.7874\n",
            "Epoch 50/50\n",
            "282/282 [==============================] - 0s 1ms/step - loss: 0.4634 - accuracy: 0.7804\n",
            "******* PLOT **********\n",
            "******* CLASSIFICATION REPORT **********\n",
            "              precision    recall  f1-score   support\n",
            "\n",
            "           0       0.93      0.74      0.82      2389\n",
            "           1       0.43      0.77      0.55       611\n",
            "\n",
            "    accuracy                           0.75      3000\n",
            "   macro avg       0.68      0.75      0.69      3000\n",
            "weighted avg       0.83      0.75      0.77      3000\n",
            "\n",
            "Accuracy Score:  0.748\n"
          ],
          "name": "stdout"
        },
        {
          "output_type": "display_data",
          "data": {
            "image/png": "[encoded data removed]",
            "text/plain": [
              "<Figure size 432x288 with 1 Axes>"
            ]
          },
          "metadata": {
            "tags": [],
            "needs_background": "light"
          }
        }
      ]
    },
    {
      "cell_type": "markdown",
      "metadata": {
        "id": "x3IbKnenJGwL"
      },
      "source": [
        "Batch 3 of Ensemble Technique"
      ]
    },
    {
      "cell_type": "code",
      "metadata": {
        "id": "srB_cSY51t7F"
      },
      "source": [
        "X_train, y_train = get_train_batch(df3_class_0,df3_class_1,2788,4182)"
      ],
      "execution_count": 59,
      "outputs": []
    },
    {
      "cell_type": "code",
      "metadata": {
        "colab": {
          "base_uri": "https://localhost:8080/",
          "height": 2169
        },
        "id": "iuh6EzTS15vT",
        "outputId": "74be3b5f-602e-44c7-84e7-ed4e66e58a20"
      },
      "source": [
        "y_pred3 = Neural_Network(X,y,X_train,X_test,y_train,y_test)"
      ],
      "execution_count": 60,
      "outputs": [
        {
          "output_type": "stream",
          "text": [
            "Epoch 1/50\n",
            "282/282 [==============================] - 1s 1ms/step - loss: 0.7292 - accuracy: 0.5000\n",
            "Epoch 2/50\n",
            "282/282 [==============================] - 0s 941us/step - loss: 0.6772 - accuracy: 0.5749\n",
            "Epoch 3/50\n",
            "282/282 [==============================] - 0s 991us/step - loss: 0.6448 - accuracy: 0.6322\n",
            "Epoch 4/50\n",
            "282/282 [==============================] - 0s 1ms/step - loss: 0.6030 - accuracy: 0.6886\n",
            "Epoch 5/50\n",
            "282/282 [==============================] - 0s 1ms/step - loss: 0.5824 - accuracy: 0.7094\n",
            "Epoch 6/50\n",
            "282/282 [==============================] - 0s 1ms/step - loss: 0.5756 - accuracy: 0.7072\n",
            "Epoch 7/50\n",
            "282/282 [==============================] - 0s 1ms/step - loss: 0.5617 - accuracy: 0.7210\n",
            "Epoch 8/50\n",
            "282/282 [==============================] - 0s 1ms/step - loss: 0.5604 - accuracy: 0.7307\n",
            "Epoch 9/50\n",
            "282/282 [==============================] - 0s 1ms/step - loss: 0.5452 - accuracy: 0.7391\n",
            "Epoch 10/50\n",
            "282/282 [==============================] - 0s 1ms/step - loss: 0.5099 - accuracy: 0.7593\n",
            "Epoch 11/50\n",
            "282/282 [==============================] - 0s 1ms/step - loss: 0.5095 - accuracy: 0.7513\n",
            "Epoch 12/50\n",
            "282/282 [==============================] - 0s 1ms/step - loss: 0.5133 - accuracy: 0.7498\n",
            "Epoch 13/50\n",
            "282/282 [==============================] - 0s 1ms/step - loss: 0.5104 - accuracy: 0.7443\n",
            "Epoch 14/50\n",
            "282/282 [==============================] - 0s 1ms/step - loss: 0.4976 - accuracy: 0.7569\n",
            "Epoch 15/50\n",
            "282/282 [==============================] - 0s 1ms/step - loss: 0.5055 - accuracy: 0.7548\n",
            "Epoch 16/50\n",
            "282/282 [==============================] - 0s 1ms/step - loss: 0.4982 - accuracy: 0.7568\n",
            "Epoch 17/50\n",
            "282/282 [==============================] - 0s 1ms/step - loss: 0.4847 - accuracy: 0.7700\n",
            "Epoch 18/50\n",
            "282/282 [==============================] - 0s 994us/step - loss: 0.4926 - accuracy: 0.7550\n",
            "Epoch 19/50\n",
            "282/282 [==============================] - 0s 1ms/step - loss: 0.4987 - accuracy: 0.7551\n",
            "Epoch 20/50\n",
            "282/282 [==============================] - 0s 1ms/step - loss: 0.4832 - accuracy: 0.7521\n",
            "Epoch 21/50\n",
            "282/282 [==============================] - 0s 1ms/step - loss: 0.4833 - accuracy: 0.7491\n",
            "Epoch 22/50\n",
            "282/282 [==============================] - 0s 1000us/step - loss: 0.5027 - accuracy: 0.7523\n",
            "Epoch 23/50\n",
            "282/282 [==============================] - 0s 1ms/step - loss: 0.4890 - accuracy: 0.7578\n",
            "Epoch 24/50\n",
            "282/282 [==============================] - 0s 1ms/step - loss: 0.4904 - accuracy: 0.7625\n",
            "Epoch 25/50\n",
            "282/282 [==============================] - 0s 999us/step - loss: 0.4718 - accuracy: 0.7771\n",
            "Epoch 26/50\n",
            "282/282 [==============================] - 0s 1ms/step - loss: 0.4820 - accuracy: 0.7631\n",
            "Epoch 27/50\n",
            "282/282 [==============================] - 0s 1ms/step - loss: 0.4854 - accuracy: 0.7650\n",
            "Epoch 28/50\n",
            "282/282 [==============================] - 0s 1ms/step - loss: 0.4910 - accuracy: 0.7508\n",
            "Epoch 29/50\n",
            "282/282 [==============================] - 0s 975us/step - loss: 0.4815 - accuracy: 0.7513\n",
            "Epoch 30/50\n",
            "282/282 [==============================] - 0s 1ms/step - loss: 0.4811 - accuracy: 0.7652\n",
            "Epoch 31/50\n",
            "282/282 [==============================] - 0s 1ms/step - loss: 0.4763 - accuracy: 0.7645\n",
            "Epoch 32/50\n",
            "282/282 [==============================] - 0s 1ms/step - loss: 0.4695 - accuracy: 0.7841\n",
            "Epoch 33/50\n",
            "282/282 [==============================] - 0s 1ms/step - loss: 0.4903 - accuracy: 0.7565\n",
            "Epoch 34/50\n",
            "282/282 [==============================] - 0s 1ms/step - loss: 0.4755 - accuracy: 0.7589\n",
            "Epoch 35/50\n",
            "282/282 [==============================] - 0s 1ms/step - loss: 0.4792 - accuracy: 0.7685\n",
            "Epoch 36/50\n",
            "282/282 [==============================] - 0s 1ms/step - loss: 0.4617 - accuracy: 0.7735\n",
            "Epoch 37/50\n",
            "282/282 [==============================] - 0s 1ms/step - loss: 0.4778 - accuracy: 0.7620\n",
            "Epoch 38/50\n",
            "282/282 [==============================] - 0s 1ms/step - loss: 0.4568 - accuracy: 0.7804\n",
            "Epoch 39/50\n",
            "282/282 [==============================] - 0s 972us/step - loss: 0.4815 - accuracy: 0.7607\n",
            "Epoch 40/50\n",
            "282/282 [==============================] - 0s 1ms/step - loss: 0.4750 - accuracy: 0.7625\n",
            "Epoch 41/50\n",
            "282/282 [==============================] - 0s 1ms/step - loss: 0.4609 - accuracy: 0.7739\n",
            "Epoch 42/50\n",
            "282/282 [==============================] - 0s 1ms/step - loss: 0.4764 - accuracy: 0.7639\n",
            "Epoch 43/50\n",
            "282/282 [==============================] - 0s 1ms/step - loss: 0.4814 - accuracy: 0.7613\n",
            "Epoch 44/50\n",
            "282/282 [==============================] - 0s 1ms/step - loss: 0.4787 - accuracy: 0.7697\n",
            "Epoch 45/50\n",
            "282/282 [==============================] - 0s 1ms/step - loss: 0.4727 - accuracy: 0.7622\n",
            "Epoch 46/50\n",
            "282/282 [==============================] - 0s 1ms/step - loss: 0.4657 - accuracy: 0.7753\n",
            "Epoch 47/50\n",
            "282/282 [==============================] - 0s 1ms/step - loss: 0.4687 - accuracy: 0.7637\n",
            "Epoch 48/50\n",
            "282/282 [==============================] - 0s 1ms/step - loss: 0.4830 - accuracy: 0.7586\n",
            "Epoch 49/50\n",
            "282/282 [==============================] - 0s 1ms/step - loss: 0.4734 - accuracy: 0.7632\n",
            "Epoch 50/50\n",
            "282/282 [==============================] - 0s 1ms/step - loss: 0.4637 - accuracy: 0.7718\n",
            "******* PLOT **********\n",
            "******* CLASSIFICATION REPORT **********\n",
            "              precision    recall  f1-score   support\n",
            "\n",
            "           0       0.92      0.79      0.85      2389\n",
            "           1       0.47      0.72      0.57       611\n",
            "\n",
            "    accuracy                           0.78      3000\n",
            "   macro avg       0.69      0.75      0.71      3000\n",
            "weighted avg       0.82      0.78      0.79      3000\n",
            "\n",
            "Accuracy Score:  0.775\n"
          ],
          "name": "stdout"
        },
        {
          "output_type": "display_data",
          "data": {
            "image/png": "[encoded data removed]",
            "text/plain": [
              "<Figure size 432x288 with 1 Axes>"
            ]
          },
          "metadata": {
            "tags": [],
            "needs_background": "light"
          }
        }
      ]
    },
    {
      "cell_type": "markdown",
      "metadata": {
        "id": "BOS2grseJJk4"
      },
      "source": [
        "Batch 4 of Ensemble Technique"
      ]
    },
    {
      "cell_type": "code",
      "metadata": {
        "colab": {
          "base_uri": "https://localhost:8080/",
          "height": 2169
        },
        "id": "W14JtOg13DhJ",
        "outputId": "f4b81672-b74c-4d18-96c5-3e927141424e"
      },
      "source": [
        "X_train, y_train = get_train_batch(df3_class_0,df3_class_1,4182,5575)\n",
        "y_pred4 = Neural_Network(X,y,X_train,X_test,y_train,y_test)"
      ],
      "execution_count": 61,
      "outputs": [
        {
          "output_type": "stream",
          "text": [
            "Epoch 1/50\n",
            "282/282 [==============================] - 1s 1ms/step - loss: 0.6958 - accuracy: 0.5132\n",
            "Epoch 2/50\n",
            "282/282 [==============================] - 0s 1ms/step - loss: 0.6662 - accuracy: 0.5986\n",
            "Epoch 3/50\n",
            "282/282 [==============================] - 0s 1ms/step - loss: 0.6121 - accuracy: 0.6759\n",
            "Epoch 4/50\n",
            "282/282 [==============================] - 0s 1ms/step - loss: 0.5877 - accuracy: 0.6820\n",
            "Epoch 5/50\n",
            "282/282 [==============================] - 0s 1ms/step - loss: 0.5538 - accuracy: 0.7023\n",
            "Epoch 6/50\n",
            "282/282 [==============================] - 0s 1ms/step - loss: 0.5457 - accuracy: 0.7160\n",
            "Epoch 7/50\n",
            "282/282 [==============================] - 0s 1ms/step - loss: 0.5308 - accuracy: 0.7351\n",
            "Epoch 8/50\n",
            "282/282 [==============================] - 0s 1ms/step - loss: 0.5183 - accuracy: 0.7425\n",
            "Epoch 9/50\n",
            "282/282 [==============================] - 0s 1ms/step - loss: 0.5230 - accuracy: 0.7397\n",
            "Epoch 10/50\n",
            "282/282 [==============================] - 0s 1ms/step - loss: 0.5220 - accuracy: 0.7321\n",
            "Epoch 11/50\n",
            "282/282 [==============================] - 0s 1ms/step - loss: 0.5266 - accuracy: 0.7323\n",
            "Epoch 12/50\n",
            "282/282 [==============================] - 0s 1ms/step - loss: 0.5116 - accuracy: 0.7446\n",
            "Epoch 13/50\n",
            "282/282 [==============================] - 0s 1ms/step - loss: 0.4999 - accuracy: 0.7472\n",
            "Epoch 14/50\n",
            "282/282 [==============================] - 0s 1ms/step - loss: 0.5054 - accuracy: 0.7475\n",
            "Epoch 15/50\n",
            "282/282 [==============================] - 0s 1ms/step - loss: 0.4976 - accuracy: 0.7412\n",
            "Epoch 16/50\n",
            "282/282 [==============================] - 0s 1ms/step - loss: 0.4970 - accuracy: 0.7591\n",
            "Epoch 17/50\n",
            "282/282 [==============================] - 0s 1ms/step - loss: 0.4955 - accuracy: 0.7512\n",
            "Epoch 18/50\n",
            "282/282 [==============================] - 0s 1ms/step - loss: 0.5035 - accuracy: 0.7464\n",
            "Epoch 19/50\n",
            "282/282 [==============================] - 0s 1ms/step - loss: 0.5017 - accuracy: 0.7352\n",
            "Epoch 20/50\n",
            "282/282 [==============================] - 0s 1ms/step - loss: 0.4849 - accuracy: 0.7569\n",
            "Epoch 21/50\n",
            "282/282 [==============================] - 0s 1ms/step - loss: 0.4910 - accuracy: 0.7588\n",
            "Epoch 22/50\n",
            "282/282 [==============================] - 0s 1ms/step - loss: 0.4807 - accuracy: 0.7664\n",
            "Epoch 23/50\n",
            "282/282 [==============================] - 0s 1ms/step - loss: 0.4705 - accuracy: 0.7675\n",
            "Epoch 24/50\n",
            "282/282 [==============================] - 0s 1ms/step - loss: 0.4843 - accuracy: 0.7568\n",
            "Epoch 25/50\n",
            "282/282 [==============================] - 0s 1ms/step - loss: 0.4864 - accuracy: 0.7581\n",
            "Epoch 26/50\n",
            "282/282 [==============================] - 0s 1ms/step - loss: 0.4767 - accuracy: 0.7641\n",
            "Epoch 27/50\n",
            "282/282 [==============================] - 0s 1ms/step - loss: 0.4858 - accuracy: 0.7712\n",
            "Epoch 28/50\n",
            "282/282 [==============================] - 0s 1ms/step - loss: 0.4918 - accuracy: 0.7512\n",
            "Epoch 29/50\n",
            "282/282 [==============================] - 0s 1ms/step - loss: 0.4800 - accuracy: 0.7700\n",
            "Epoch 30/50\n",
            "282/282 [==============================] - 0s 1ms/step - loss: 0.4759 - accuracy: 0.7633\n",
            "Epoch 31/50\n",
            "282/282 [==============================] - 0s 1ms/step - loss: 0.4804 - accuracy: 0.7616\n",
            "Epoch 32/50\n",
            "282/282 [==============================] - 0s 1ms/step - loss: 0.4759 - accuracy: 0.7617\n",
            "Epoch 33/50\n",
            "282/282 [==============================] - 0s 1ms/step - loss: 0.4656 - accuracy: 0.7727\n",
            "Epoch 34/50\n",
            "282/282 [==============================] - 0s 1ms/step - loss: 0.4802 - accuracy: 0.7573\n",
            "Epoch 35/50\n",
            "282/282 [==============================] - 0s 1ms/step - loss: 0.4755 - accuracy: 0.7629\n",
            "Epoch 36/50\n",
            "282/282 [==============================] - 0s 1ms/step - loss: 0.4791 - accuracy: 0.7587\n",
            "Epoch 37/50\n",
            "282/282 [==============================] - 0s 1ms/step - loss: 0.4918 - accuracy: 0.7562\n",
            "Epoch 38/50\n",
            "282/282 [==============================] - 0s 1ms/step - loss: 0.4862 - accuracy: 0.7653\n",
            "Epoch 39/50\n",
            "282/282 [==============================] - 0s 1ms/step - loss: 0.4649 - accuracy: 0.7776\n",
            "Epoch 40/50\n",
            "282/282 [==============================] - 0s 1ms/step - loss: 0.4579 - accuracy: 0.7742\n",
            "Epoch 41/50\n",
            "282/282 [==============================] - 0s 1ms/step - loss: 0.4706 - accuracy: 0.7683\n",
            "Epoch 42/50\n",
            "282/282 [==============================] - 0s 1ms/step - loss: 0.4651 - accuracy: 0.7865\n",
            "Epoch 43/50\n",
            "282/282 [==============================] - 0s 1ms/step - loss: 0.4839 - accuracy: 0.7516\n",
            "Epoch 44/50\n",
            "282/282 [==============================] - 0s 1ms/step - loss: 0.4750 - accuracy: 0.7684\n",
            "Epoch 45/50\n",
            "282/282 [==============================] - 0s 1ms/step - loss: 0.4788 - accuracy: 0.7617\n",
            "Epoch 46/50\n",
            "282/282 [==============================] - 0s 1ms/step - loss: 0.4619 - accuracy: 0.7707\n",
            "Epoch 47/50\n",
            "282/282 [==============================] - 0s 1ms/step - loss: 0.4711 - accuracy: 0.7683\n",
            "Epoch 48/50\n",
            "282/282 [==============================] - 0s 1ms/step - loss: 0.4676 - accuracy: 0.7631\n",
            "Epoch 49/50\n",
            "282/282 [==============================] - 0s 1ms/step - loss: 0.4591 - accuracy: 0.7713\n",
            "Epoch 50/50\n",
            "282/282 [==============================] - 0s 1ms/step - loss: 0.4703 - accuracy: 0.7642\n",
            "******* PLOT **********\n",
            "******* CLASSIFICATION REPORT **********\n",
            "              precision    recall  f1-score   support\n",
            "\n",
            "           0       0.92      0.77      0.84      2389\n",
            "           1       0.45      0.72      0.55       611\n",
            "\n",
            "    accuracy                           0.76      3000\n",
            "   macro avg       0.68      0.75      0.70      3000\n",
            "weighted avg       0.82      0.76      0.78      3000\n",
            "\n",
            "Accuracy Score:  0.7633333333333333\n"
          ],
          "name": "stdout"
        },
        {
          "output_type": "display_data",
          "data": {
            "image/png": "[encoded data removed]",
            "text/plain": [
              "<Figure size 432x288 with 1 Axes>"
            ]
          },
          "metadata": {
            "tags": [],
            "needs_background": "light"
          }
        }
      ]
    },
    {
      "cell_type": "markdown",
      "metadata": {
        "id": "9T3f7tQ8cKgY"
      },
      "source": [
        "Taking average of all four batches to record output of majority of all the 4 balanced modelling performed."
      ]
    },
    {
      "cell_type": "code",
      "metadata": {
        "id": "yjwi6sP019_s"
      },
      "source": [
        "y_pred_final = y_pred1.copy()\n",
        "\n",
        "for i in range(len(y_pred1)):\n",
        "  n_ones = y_pred1[i]+y_pred2[i]+y_pred3[i]+y_pred4[i]\n",
        "\n",
        "  if n_ones>2:\n",
        "    y_pred_final[i]=1\n",
        "  else:\n",
        "    y_pred_final[i]=0"
      ],
      "execution_count": 62,
      "outputs": []
    },
    {
      "cell_type": "code",
      "metadata": {
        "colab": {
          "base_uri": "https://localhost:8080/",
          "height": 0
        },
        "id": "s3o5j5fy4nw6",
        "outputId": "0310d38a-b2b9-4f72-a23e-d8832f7b1732"
      },
      "source": [
        "print(classification_report(y_test,y_pred_final))\n",
        "print(\"Accuracy Score: \", accuracy_score(y_test, y_pred_final))"
      ],
      "execution_count": 63,
      "outputs": [
        {
          "output_type": "stream",
          "text": [
            "              precision    recall  f1-score   support\n",
            "\n",
            "           0       0.92      0.79      0.85      2389\n",
            "           1       0.47      0.72      0.57       611\n",
            "\n",
            "    accuracy                           0.78      3000\n",
            "   macro avg       0.69      0.76      0.71      3000\n",
            "weighted avg       0.83      0.78      0.79      3000\n",
            "\n",
            "Accuracy Score:  0.775\n"
          ],
          "name": "stdout"
        }
      ]
    },
    {
      "cell_type": "markdown",
      "metadata": {
        "id": "jnEhyUurKFJB"
      },
      "source": [
        "#Observation"
      ]
    },
    {
      "cell_type": "markdown",
      "metadata": {
        "id": "xmgf-WvXKIrn"
      },
      "source": [
        "Analysing prediction all four balancing methods.\n",
        "1. Modeling using unbalanced dataset - This method does give us a good accuracy but there are high false positives and false negatives. Also the difference between F1 scores is quite huge.\n",
        "2. Modeling using undersampled/oversampled dataset -  It gives us a little better outcome considering both accuracy as well as F1 scores.\n",
        "3. Modeling using SMOTE dataset - This method does give us a good accuracy also the false positives and false negatives are quite low compared to above technique.\n",
        "4. Modeling using ensembling with undersampling dataset - This method does give us a good accuracy also the false positives and false negatives are considerably low compared to all other technique. But the difference between F1 score of both the classes also cannot be ignored."
      ]
    },
    {
      "cell_type": "markdown",
      "metadata": {
        "id": "NS5nbdcpeJqU"
      },
      "source": [
        "#***Conclusion***"
      ]
    },
    {
      "cell_type": "markdown",
      "metadata": {
        "id": "bQ6ni7d3Yb1P"
      },
      "source": [
        "#### Observing the accuracy of all the modelling SMOTE Technique for balancing helps us provide a better prediction with maximum accuracy of 80%, with a balanced F1 score of 80% for both the classes.\n",
        "\n",
        "####We chose a Deep Learning Neural Network with 2 hidden layers with 6 nodes each with relu as activation function and one output layer with sigmoid as activation function."
      ]
    }
  ]
}